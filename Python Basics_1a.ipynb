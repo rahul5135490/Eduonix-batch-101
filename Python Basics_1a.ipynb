{
 "cells": [
  {
   "cell_type": "markdown",
   "id": "395390a8",
   "metadata": {},
   "source": [
    "##                                                                     Day 1"
   ]
  },
  {
   "cell_type": "markdown",
   "id": "063e1dae",
   "metadata": {},
   "source": [
    "To print any word"
   ]
  },
  {
   "cell_type": "code",
   "execution_count": 1,
   "id": "60320bdd",
   "metadata": {},
   "outputs": [
    {
     "name": "stdout",
     "output_type": "stream",
     "text": [
      "Hello World\n"
     ]
    }
   ],
   "source": [
    "print(\"Hello World\")"
   ]
  },
  {
   "cell_type": "code",
   "execution_count": 2,
   "id": "e5fe09e0",
   "metadata": {},
   "outputs": [
    {
     "name": "stdout",
     "output_type": "stream",
     "text": [
      "Rahul Srivastava\n"
     ]
    }
   ],
   "source": [
    "print(\"Rahul Srivastava\")"
   ]
  },
  {
   "cell_type": "code",
   "execution_count": 3,
   "id": "bcb1f314",
   "metadata": {},
   "outputs": [
    {
     "name": "stdout",
     "output_type": "stream",
     "text": [
      "Data Science\n"
     ]
    }
   ],
   "source": [
    "print(\"Data Science\")"
   ]
  },
  {
   "cell_type": "markdown",
   "id": "6a2d0151",
   "metadata": {},
   "source": [
    "# Variables"
   ]
  },
  {
   "cell_type": "code",
   "execution_count": 4,
   "id": "5e7b9e65",
   "metadata": {},
   "outputs": [],
   "source": [
    "name=\"Rahul\"\n",
    "Age=35\n",
    "Income=100000"
   ]
  },
  {
   "cell_type": "code",
   "execution_count": 5,
   "id": "967508de",
   "metadata": {},
   "outputs": [
    {
     "name": "stdout",
     "output_type": "stream",
     "text": [
      "Rahul\n",
      "35\n",
      "100000\n"
     ]
    }
   ],
   "source": [
    "print(name)\n",
    "print(Age)\n",
    "print(Income)"
   ]
  },
  {
   "cell_type": "code",
   "execution_count": 6,
   "id": "9838bbe8",
   "metadata": {},
   "outputs": [
    {
     "data": {
      "text/plain": [
       "('Rahul', 'Srivastava')"
      ]
     },
     "execution_count": 6,
     "metadata": {},
     "output_type": "execute_result"
    }
   ],
   "source": [
    "namelist=\"Rahul\",\"Srivastava\"\n",
    "namelist"
   ]
  },
  {
   "cell_type": "code",
   "execution_count": 7,
   "id": "8b2894a9",
   "metadata": {},
   "outputs": [
    {
     "ename": "SyntaxError",
     "evalue": "invalid syntax (3963117976.py, line 1)",
     "output_type": "error",
     "traceback": [
      "\u001b[1;36m  File \u001b[1;32m\"C:\\Users\\Admin\\AppData\\Local\\Temp\\ipykernel_13532\\3963117976.py\"\u001b[1;36m, line \u001b[1;32m1\u001b[0m\n\u001b[1;33m    name list=\"Latha\",\"Prema\"\u001b[0m\n\u001b[1;37m         ^\u001b[0m\n\u001b[1;31mSyntaxError\u001b[0m\u001b[1;31m:\u001b[0m invalid syntax\n"
     ]
    }
   ],
   "source": [
    "name list=\"Rahul\",\"Srivastava\"\n",
    "name list"
   ]
  },
  {
   "cell_type": "markdown",
   "id": "1fa48923",
   "metadata": {},
   "source": [
    "Space not allowed in the variable"
   ]
  },
  {
   "cell_type": "code",
   "execution_count": 8,
   "id": "45a666e6",
   "metadata": {},
   "outputs": [
    {
     "ename": "SyntaxError",
     "evalue": "invalid syntax (1158293334.py, line 1)",
     "output_type": "error",
     "traceback": [
      "\u001b[1;36m  File \u001b[1;32m\"C:\\Users\\Admin\\AppData\\Local\\Temp\\ipykernel_13532\\1158293334.py\"\u001b[1;36m, line \u001b[1;32m1\u001b[0m\n\u001b[1;33m    2namelist=\"Rahul\",\"Srivastava\"\u001b[0m\n\u001b[1;37m     ^\u001b[0m\n\u001b[1;31mSyntaxError\u001b[0m\u001b[1;31m:\u001b[0m invalid syntax\n"
     ]
    }
   ],
   "source": [
    "2namelist=\"Rahul\",\"Srivastava\"\n",
    "2namelist"
   ]
  },
  {
   "cell_type": "markdown",
   "id": "3792e9e1",
   "metadata": {},
   "source": [
    "variable name should not start with numbers"
   ]
  },
  {
   "cell_type": "code",
   "execution_count": 9,
   "id": "6f82bdde",
   "metadata": {},
   "outputs": [
    {
     "data": {
      "text/plain": [
       "('Rahul', 'Srivastava')"
      ]
     },
     "execution_count": 9,
     "metadata": {},
     "output_type": "execute_result"
    }
   ],
   "source": [
    "n2amelist=\"Rahul\",\"Srivastava\"\n",
    "n2amelist"
   ]
  },
  {
   "cell_type": "code",
   "execution_count": 10,
   "id": "e05836ee",
   "metadata": {},
   "outputs": [
    {
     "data": {
      "text/plain": [
       "tuple"
      ]
     },
     "execution_count": 10,
     "metadata": {},
     "output_type": "execute_result"
    }
   ],
   "source": [
    "type(n2amelist)"
   ]
  },
  {
   "cell_type": "code",
   "execution_count": 11,
   "id": "de6ed906",
   "metadata": {},
   "outputs": [
    {
     "ename": "SyntaxError",
     "evalue": "cannot assign to operator (1626691756.py, line 1)",
     "output_type": "error",
     "traceback": [
      "\u001b[1;36m  File \u001b[1;32m\"C:\\Users\\Admin\\AppData\\Local\\Temp\\ipykernel_13532\\1626691756.py\"\u001b[1;36m, line \u001b[1;32m1\u001b[0m\n\u001b[1;33m    name+list=\"Rahuul\",\"Srivastava\"\u001b[0m\n\u001b[1;37m    ^\u001b[0m\n\u001b[1;31mSyntaxError\u001b[0m\u001b[1;31m:\u001b[0m cannot assign to operator\n"
     ]
    }
   ],
   "source": [
    "name+list=\"Rahuul\",\"Srivastava\"\n",
    "name+list"
   ]
  },
  {
   "cell_type": "code",
   "execution_count": 12,
   "id": "41db4fb5",
   "metadata": {},
   "outputs": [
    {
     "ename": "SyntaxError",
     "evalue": "cannot assign to operator (578928200.py, line 1)",
     "output_type": "error",
     "traceback": [
      "\u001b[1;36m  File \u001b[1;32m\"C:\\Users\\Admin\\AppData\\Local\\Temp\\ipykernel_13532\\578928200.py\"\u001b[1;36m, line \u001b[1;32m1\u001b[0m\n\u001b[1;33m    name@list=\"Rahuul\",\"Srivastava\"\u001b[0m\n\u001b[1;37m    ^\u001b[0m\n\u001b[1;31mSyntaxError\u001b[0m\u001b[1;31m:\u001b[0m cannot assign to operator\n"
     ]
    }
   ],
   "source": [
    "name@list=\"Rahuul\",\"Srivastava\"\n",
    "name@list"
   ]
  },
  {
   "cell_type": "code",
   "execution_count": 13,
   "id": "0269d672",
   "metadata": {},
   "outputs": [
    {
     "data": {
      "text/plain": [
       "('Rahuul', 'Srivastava')"
      ]
     },
     "execution_count": 13,
     "metadata": {},
     "output_type": "execute_result"
    }
   ],
   "source": [
    "name_list=\"Rahuul\",\"Srivastava\"\n",
    "name_list"
   ]
  },
  {
   "cell_type": "markdown",
   "id": "41d577c4",
   "metadata": {},
   "source": [
    "The only allowed spl character is underscore\n",
    "Variable name should start with A-Z,a-z or underscore"
   ]
  },
  {
   "cell_type": "code",
   "execution_count": 14,
   "id": "f6645a7c",
   "metadata": {},
   "outputs": [
    {
     "data": {
      "text/plain": [
       "str"
      ]
     },
     "execution_count": 14,
     "metadata": {},
     "output_type": "execute_result"
    }
   ],
   "source": [
    "name=\"ai\"\n",
    "\n",
    "type(name)"
   ]
  },
  {
   "cell_type": "code",
   "execution_count": 15,
   "id": "74bcb5e2",
   "metadata": {},
   "outputs": [
    {
     "data": {
      "text/plain": [
       "int"
      ]
     },
     "execution_count": 15,
     "metadata": {},
     "output_type": "execute_result"
    }
   ],
   "source": [
    "x=101\n",
    "type(x)"
   ]
  },
  {
   "cell_type": "code",
   "execution_count": 16,
   "id": "2aa60452",
   "metadata": {},
   "outputs": [
    {
     "data": {
      "text/plain": [
       "float"
      ]
     },
     "execution_count": 16,
     "metadata": {},
     "output_type": "execute_result"
    }
   ],
   "source": [
    "x=30.7\n",
    "type(x)"
   ]
  },
  {
   "cell_type": "code",
   "execution_count": 17,
   "id": "5662be33",
   "metadata": {},
   "outputs": [
    {
     "data": {
      "text/plain": [
       "bool"
      ]
     },
     "execution_count": 17,
     "metadata": {},
     "output_type": "execute_result"
    }
   ],
   "source": [
    "x=True\n",
    "type(x)"
   ]
  },
  {
   "cell_type": "code",
   "execution_count": 18,
   "id": "fc81127e",
   "metadata": {},
   "outputs": [
    {
     "data": {
      "text/plain": [
       "bool"
      ]
     },
     "execution_count": 18,
     "metadata": {},
     "output_type": "execute_result"
    }
   ],
   "source": [
    "y=False\n",
    "type(y)"
   ]
  },
  {
   "cell_type": "code",
   "execution_count": 19,
   "id": "93506924",
   "metadata": {},
   "outputs": [
    {
     "ename": "NameError",
     "evalue": "name 'true' is not defined",
     "output_type": "error",
     "traceback": [
      "\u001b[1;31m---------------------------------------------------------------------------\u001b[0m",
      "\u001b[1;31mNameError\u001b[0m                                 Traceback (most recent call last)",
      "\u001b[1;32m~\\AppData\\Local\\Temp\\ipykernel_13532\\455558514.py\u001b[0m in \u001b[0;36m<module>\u001b[1;34m\u001b[0m\n\u001b[1;32m----> 1\u001b[1;33m \u001b[0my\u001b[0m\u001b[1;33m=\u001b[0m\u001b[0mtrue\u001b[0m\u001b[1;33m\u001b[0m\u001b[1;33m\u001b[0m\u001b[0m\n\u001b[0m\u001b[0;32m      2\u001b[0m \u001b[0mtype\u001b[0m\u001b[1;33m(\u001b[0m\u001b[0my\u001b[0m\u001b[1;33m)\u001b[0m\u001b[1;33m\u001b[0m\u001b[1;33m\u001b[0m\u001b[0m\n",
      "\u001b[1;31mNameError\u001b[0m: name 'true' is not defined"
     ]
    }
   ],
   "source": [
    "y=true\n",
    "type(y)"
   ]
  },
  {
   "cell_type": "markdown",
   "id": "8ee898a8",
   "metadata": {},
   "source": [
    "#Python is case sensitive"
   ]
  },
  {
   "cell_type": "code",
   "execution_count": 20,
   "id": "d2dd079a",
   "metadata": {},
   "outputs": [
    {
     "data": {
      "text/plain": [
       "str"
      ]
     },
     "execution_count": 20,
     "metadata": {},
     "output_type": "execute_result"
    }
   ],
   "source": [
    "z=\"True\"\n",
    "type(z)"
   ]
  },
  {
   "cell_type": "code",
   "execution_count": 21,
   "id": "c04dc410",
   "metadata": {},
   "outputs": [
    {
     "data": {
      "text/plain": [
       "str"
      ]
     },
     "execution_count": 21,
     "metadata": {},
     "output_type": "execute_result"
    }
   ],
   "source": [
    "z='True'\n",
    "type(z)"
   ]
  },
  {
   "cell_type": "markdown",
   "id": "178e4bb5",
   "metadata": {},
   "source": [
    "# Implicit conversion"
   ]
  },
  {
   "cell_type": "code",
   "execution_count": 22,
   "id": "23565190",
   "metadata": {},
   "outputs": [
    {
     "data": {
      "text/plain": [
       "5.0"
      ]
     },
     "execution_count": 22,
     "metadata": {},
     "output_type": "execute_result"
    }
   ],
   "source": [
    "x=10\n",
    "y=2\n",
    "x/y"
   ]
  },
  {
   "cell_type": "code",
   "execution_count": 23,
   "id": "f9e683d2",
   "metadata": {},
   "outputs": [
    {
     "ename": "TypeError",
     "evalue": "unsupported operand type(s) for +: 'int' and 'str'",
     "output_type": "error",
     "traceback": [
      "\u001b[1;31m---------------------------------------------------------------------------\u001b[0m",
      "\u001b[1;31mTypeError\u001b[0m                                 Traceback (most recent call last)",
      "\u001b[1;32m~\\AppData\\Local\\Temp\\ipykernel_13532\\2275015673.py\u001b[0m in \u001b[0;36m<module>\u001b[1;34m\u001b[0m\n\u001b[0;32m      1\u001b[0m \u001b[0mx\u001b[0m\u001b[1;33m=\u001b[0m\u001b[1;36m10\u001b[0m\u001b[1;33m\u001b[0m\u001b[1;33m\u001b[0m\u001b[0m\n\u001b[0;32m      2\u001b[0m \u001b[0my\u001b[0m\u001b[1;33m=\u001b[0m\u001b[1;34m\"ds\"\u001b[0m\u001b[1;33m\u001b[0m\u001b[1;33m\u001b[0m\u001b[0m\n\u001b[1;32m----> 3\u001b[1;33m \u001b[0mx\u001b[0m\u001b[1;33m+\u001b[0m\u001b[0my\u001b[0m\u001b[1;33m\u001b[0m\u001b[1;33m\u001b[0m\u001b[0m\n\u001b[0m",
      "\u001b[1;31mTypeError\u001b[0m: unsupported operand type(s) for +: 'int' and 'str'"
     ]
    }
   ],
   "source": [
    "x=10\n",
    "y=\"ds\"\n",
    "x+y"
   ]
  },
  {
   "cell_type": "code",
   "execution_count": 24,
   "id": "56368745",
   "metadata": {},
   "outputs": [
    {
     "ename": "TypeError",
     "evalue": "unsupported operand type(s) for +: 'float' and 'str'",
     "output_type": "error",
     "traceback": [
      "\u001b[1;31m---------------------------------------------------------------------------\u001b[0m",
      "\u001b[1;31mTypeError\u001b[0m                                 Traceback (most recent call last)",
      "\u001b[1;32m~\\AppData\\Local\\Temp\\ipykernel_13532\\3522815318.py\u001b[0m in \u001b[0;36m<module>\u001b[1;34m\u001b[0m\n\u001b[0;32m      1\u001b[0m \u001b[0mx\u001b[0m\u001b[1;33m=\u001b[0m\u001b[1;36m10.5\u001b[0m\u001b[1;33m\u001b[0m\u001b[1;33m\u001b[0m\u001b[0m\n\u001b[0;32m      2\u001b[0m \u001b[0my\u001b[0m\u001b[1;33m=\u001b[0m\u001b[1;34m\"10\"\u001b[0m\u001b[1;33m\u001b[0m\u001b[1;33m\u001b[0m\u001b[0m\n\u001b[1;32m----> 3\u001b[1;33m \u001b[0mx\u001b[0m\u001b[1;33m+\u001b[0m\u001b[0my\u001b[0m\u001b[1;33m\u001b[0m\u001b[1;33m\u001b[0m\u001b[0m\n\u001b[0m",
      "\u001b[1;31mTypeError\u001b[0m: unsupported operand type(s) for +: 'float' and 'str'"
     ]
    }
   ],
   "source": [
    "x=10.5\n",
    "y=\"10\"\n",
    "x+y"
   ]
  },
  {
   "cell_type": "code",
   "execution_count": 25,
   "id": "e20ba44f",
   "metadata": {},
   "outputs": [
    {
     "data": {
      "text/plain": [
       "20.5"
      ]
     },
     "execution_count": 25,
     "metadata": {},
     "output_type": "execute_result"
    }
   ],
   "source": [
    "x=10.5\n",
    "y=\"10\"\n",
    "x+int(y)"
   ]
  },
  {
   "cell_type": "code",
   "execution_count": 26,
   "id": "59a83654",
   "metadata": {},
   "outputs": [
    {
     "data": {
      "text/plain": [
       "'dsda'"
      ]
     },
     "execution_count": 26,
     "metadata": {},
     "output_type": "execute_result"
    }
   ],
   "source": [
    "x=\"ds\"\n",
    "y=\"da\"\n",
    "x+y"
   ]
  },
  {
   "cell_type": "code",
   "execution_count": 27,
   "id": "acbc18e9",
   "metadata": {},
   "outputs": [
    {
     "data": {
      "text/plain": [
       "20.4"
      ]
     },
     "execution_count": 27,
     "metadata": {},
     "output_type": "execute_result"
    }
   ],
   "source": [
    "x=10\n",
    "y=10.4\n",
    "x+y"
   ]
  },
  {
   "cell_type": "markdown",
   "id": "103f135c",
   "metadata": {},
   "source": [
    "int -> float\n",
    "int->string\n",
    "float->int\n",
    "float->str\n",
    "str->int\n",
    "str->float"
   ]
  },
  {
   "cell_type": "code",
   "execution_count": 29,
   "id": "65e4e577",
   "metadata": {},
   "outputs": [
    {
     "ename": "ValueError",
     "evalue": "invalid literal for int() with base 10: 'hi'",
     "output_type": "error",
     "traceback": [
      "\u001b[1;31m---------------------------------------------------------------------------\u001b[0m",
      "\u001b[1;31mValueError\u001b[0m                                Traceback (most recent call last)",
      "\u001b[1;32m~\\AppData\\Local\\Temp\\ipykernel_13532\\1248347915.py\u001b[0m in \u001b[0;36m<module>\u001b[1;34m\u001b[0m\n\u001b[0;32m      1\u001b[0m \u001b[0mx\u001b[0m\u001b[1;33m=\u001b[0m\u001b[1;34m\"hi\"\u001b[0m\u001b[1;33m\u001b[0m\u001b[1;33m\u001b[0m\u001b[0m\n\u001b[1;32m----> 2\u001b[1;33m \u001b[0mint\u001b[0m\u001b[1;33m(\u001b[0m\u001b[0mx\u001b[0m\u001b[1;33m)\u001b[0m\u001b[1;33m\u001b[0m\u001b[1;33m\u001b[0m\u001b[0m\n\u001b[0m",
      "\u001b[1;31mValueError\u001b[0m: invalid literal for int() with base 10: 'hi'"
     ]
    }
   ],
   "source": [
    "x=\"hi\"\n",
    "int(x)"
   ]
  },
  {
   "cell_type": "markdown",
   "id": "6c30bbf4",
   "metadata": {},
   "source": [
    "text cannot be converted to int"
   ]
  },
  {
   "cell_type": "code",
   "execution_count": 30,
   "id": "434ab4be",
   "metadata": {},
   "outputs": [
    {
     "ename": "ValueError",
     "evalue": "could not convert string to float: 'hi'",
     "output_type": "error",
     "traceback": [
      "\u001b[1;31m---------------------------------------------------------------------------\u001b[0m",
      "\u001b[1;31mValueError\u001b[0m                                Traceback (most recent call last)",
      "\u001b[1;32m~\\AppData\\Local\\Temp\\ipykernel_13532\\2826075610.py\u001b[0m in \u001b[0;36m<module>\u001b[1;34m\u001b[0m\n\u001b[0;32m      1\u001b[0m \u001b[0mx\u001b[0m\u001b[1;33m=\u001b[0m\u001b[1;34m\"hi\"\u001b[0m\u001b[1;33m\u001b[0m\u001b[1;33m\u001b[0m\u001b[0m\n\u001b[1;32m----> 2\u001b[1;33m \u001b[0mfloat\u001b[0m\u001b[1;33m(\u001b[0m\u001b[0mx\u001b[0m\u001b[1;33m)\u001b[0m\u001b[1;33m\u001b[0m\u001b[1;33m\u001b[0m\u001b[0m\n\u001b[0m",
      "\u001b[1;31mValueError\u001b[0m: could not convert string to float: 'hi'"
     ]
    }
   ],
   "source": [
    "x=\"hi\"\n",
    "float(x)"
   ]
  },
  {
   "cell_type": "markdown",
   "id": "f5766632",
   "metadata": {},
   "source": [
    "text cannot be converted to int"
   ]
  },
  {
   "cell_type": "code",
   "execution_count": 31,
   "id": "871586b5",
   "metadata": {},
   "outputs": [
    {
     "data": {
      "text/plain": [
       "100.0"
      ]
     },
     "execution_count": 31,
     "metadata": {},
     "output_type": "execute_result"
    }
   ],
   "source": [
    "x=100\n",
    "float(x)"
   ]
  },
  {
   "cell_type": "markdown",
   "id": "409a41d9",
   "metadata": {},
   "source": [
    "int can be converted to float"
   ]
  },
  {
   "cell_type": "code",
   "execution_count": 32,
   "id": "2538ec4e",
   "metadata": {},
   "outputs": [
    {
     "data": {
      "text/plain": [
       "100"
      ]
     },
     "execution_count": 32,
     "metadata": {},
     "output_type": "execute_result"
    }
   ],
   "source": [
    "x=100.88\n",
    "int(x)"
   ]
  },
  {
   "cell_type": "markdown",
   "id": "31ee4aa8",
   "metadata": {},
   "source": [
    "float can be converted to int"
   ]
  },
  {
   "cell_type": "markdown",
   "id": "2d26aac7",
   "metadata": {},
   "source": [
    "# Day 2"
   ]
  },
  {
   "cell_type": "markdown",
   "id": "42660099",
   "metadata": {},
   "source": [
    "operators\n",
    "Arithmetic Operators\n"
   ]
  },
  {
   "cell_type": "code",
   "execution_count": 33,
   "id": "4f413157",
   "metadata": {},
   "outputs": [
    {
     "name": "stdout",
     "output_type": "stream",
     "text": [
      "15\n"
     ]
    },
    {
     "data": {
      "text/plain": [
       "int"
      ]
     },
     "execution_count": 33,
     "metadata": {},
     "output_type": "execute_result"
    }
   ],
   "source": [
    "x=5\n",
    "y=10\n",
    "z=x+y\n",
    "print(z)\n",
    "type(z)"
   ]
  },
  {
   "cell_type": "code",
   "execution_count": 34,
   "id": "a4b3231d",
   "metadata": {},
   "outputs": [
    {
     "data": {
      "text/plain": [
       "'RahulSrivastava'"
      ]
     },
     "execution_count": 34,
     "metadata": {},
     "output_type": "execute_result"
    }
   ],
   "source": [
    "first_name=\"Rahul\"\n",
    "second_name=\"Srivastava\"\n",
    "full_name=first_name+second_name\n",
    "full_name"
   ]
  },
  {
   "cell_type": "code",
   "execution_count": 35,
   "id": "db66a5f9",
   "metadata": {},
   "outputs": [
    {
     "data": {
      "text/plain": [
       "'Age is 22'"
      ]
     },
     "execution_count": 35,
     "metadata": {},
     "output_type": "execute_result"
    }
   ],
   "source": [
    "text=\"Age is \"\n",
    "age=\"22\"\n",
    "combine=text+age\n",
    "combine"
   ]
  },
  {
   "cell_type": "code",
   "execution_count": 36,
   "id": "f8233a13",
   "metadata": {},
   "outputs": [
    {
     "name": "stdout",
     "output_type": "stream",
     "text": [
      "-5\n"
     ]
    },
    {
     "data": {
      "text/plain": [
       "int"
      ]
     },
     "execution_count": 36,
     "metadata": {},
     "output_type": "execute_result"
    }
   ],
   "source": [
    "x=5\n",
    "y=10\n",
    "z=x-y\n",
    "print(z)\n",
    "type(z)"
   ]
  },
  {
   "cell_type": "code",
   "execution_count": 37,
   "id": "49395b4d",
   "metadata": {},
   "outputs": [
    {
     "ename": "TypeError",
     "evalue": "unsupported operand type(s) for -: 'str' and 'str'",
     "output_type": "error",
     "traceback": [
      "\u001b[1;31m---------------------------------------------------------------------------\u001b[0m",
      "\u001b[1;31mTypeError\u001b[0m                                 Traceback (most recent call last)",
      "\u001b[1;32m~\\AppData\\Local\\Temp\\ipykernel_13532\\2146276965.py\u001b[0m in \u001b[0;36m<module>\u001b[1;34m\u001b[0m\n\u001b[0;32m      1\u001b[0m \u001b[0mfirst_name\u001b[0m\u001b[1;33m=\u001b[0m\u001b[1;34m\"Rahul\"\u001b[0m\u001b[1;33m\u001b[0m\u001b[1;33m\u001b[0m\u001b[0m\n\u001b[0;32m      2\u001b[0m \u001b[0msecond_name\u001b[0m\u001b[1;33m=\u001b[0m\u001b[1;34m\"Srivastava\"\u001b[0m\u001b[1;33m\u001b[0m\u001b[1;33m\u001b[0m\u001b[0m\n\u001b[1;32m----> 3\u001b[1;33m \u001b[0mfull_name\u001b[0m\u001b[1;33m=\u001b[0m\u001b[0mfirst_name\u001b[0m\u001b[1;33m-\u001b[0m\u001b[0msecond_name\u001b[0m\u001b[1;33m\u001b[0m\u001b[1;33m\u001b[0m\u001b[0m\n\u001b[0m\u001b[0;32m      4\u001b[0m \u001b[0mfull_name\u001b[0m\u001b[1;33m\u001b[0m\u001b[1;33m\u001b[0m\u001b[0m\n",
      "\u001b[1;31mTypeError\u001b[0m: unsupported operand type(s) for -: 'str' and 'str'"
     ]
    }
   ],
   "source": [
    "first_name=\"Rahul\"\n",
    "second_name=\"Srivastava\"\n",
    "full_name=first_name-second_name\n",
    "full_name"
   ]
  },
  {
   "cell_type": "code",
   "execution_count": 38,
   "id": "ed846d54",
   "metadata": {},
   "outputs": [
    {
     "name": "stdout",
     "output_type": "stream",
     "text": [
      "50\n"
     ]
    },
    {
     "data": {
      "text/plain": [
       "int"
      ]
     },
     "execution_count": 38,
     "metadata": {},
     "output_type": "execute_result"
    }
   ],
   "source": [
    "x=5\n",
    "y=10\n",
    "z=x*y\n",
    "print(z)\n",
    "type(z)"
   ]
  },
  {
   "cell_type": "code",
   "execution_count": 39,
   "id": "cac18304",
   "metadata": {},
   "outputs": [
    {
     "data": {
      "text/plain": [
       "'ai   ai   ai   ai   ai   ai   '"
      ]
     },
     "execution_count": 39,
     "metadata": {},
     "output_type": "execute_result"
    }
   ],
   "source": [
    "value=\"ai   \"\n",
    "count=6\n",
    "result=value*count\n",
    "result"
   ]
  },
  {
   "cell_type": "code",
   "execution_count": 40,
   "id": "9b0a074c",
   "metadata": {},
   "outputs": [
    {
     "name": "stdout",
     "output_type": "stream",
     "text": [
      "0.5\n"
     ]
    },
    {
     "data": {
      "text/plain": [
       "float"
      ]
     },
     "execution_count": 40,
     "metadata": {},
     "output_type": "execute_result"
    }
   ],
   "source": [
    "x=5\n",
    "y=10\n",
    "z=x/y\n",
    "print(z)\n",
    "type(z)"
   ]
  },
  {
   "cell_type": "code",
   "execution_count": 41,
   "id": "0fb1d141",
   "metadata": {},
   "outputs": [
    {
     "ename": "TypeError",
     "evalue": "unsupported operand type(s) for /: 'str' and 'int'",
     "output_type": "error",
     "traceback": [
      "\u001b[1;31m---------------------------------------------------------------------------\u001b[0m",
      "\u001b[1;31mTypeError\u001b[0m                                 Traceback (most recent call last)",
      "\u001b[1;32m~\\AppData\\Local\\Temp\\ipykernel_13532\\3702422490.py\u001b[0m in \u001b[0;36m<module>\u001b[1;34m\u001b[0m\n\u001b[0;32m      1\u001b[0m \u001b[0mvalue\u001b[0m\u001b[1;33m=\u001b[0m\u001b[1;34m\"ai   \"\u001b[0m\u001b[1;33m\u001b[0m\u001b[1;33m\u001b[0m\u001b[0m\n\u001b[0;32m      2\u001b[0m \u001b[0mcount\u001b[0m\u001b[1;33m=\u001b[0m\u001b[1;36m3\u001b[0m\u001b[1;33m\u001b[0m\u001b[1;33m\u001b[0m\u001b[0m\n\u001b[1;32m----> 3\u001b[1;33m \u001b[0mresult\u001b[0m\u001b[1;33m=\u001b[0m\u001b[0mvalue\u001b[0m\u001b[1;33m/\u001b[0m\u001b[0mcount\u001b[0m\u001b[1;33m\u001b[0m\u001b[1;33m\u001b[0m\u001b[0m\n\u001b[0m\u001b[0;32m      4\u001b[0m \u001b[0mresult\u001b[0m\u001b[1;33m\u001b[0m\u001b[1;33m\u001b[0m\u001b[0m\n",
      "\u001b[1;31mTypeError\u001b[0m: unsupported operand type(s) for /: 'str' and 'int'"
     ]
    }
   ],
   "source": [
    "value=\"ai   \"\n",
    "count=3\n",
    "result=value/count\n",
    "result"
   ]
  },
  {
   "cell_type": "code",
   "execution_count": 42,
   "id": "ae0a62dd",
   "metadata": {},
   "outputs": [
    {
     "data": {
      "text/plain": [
       "3"
      ]
     },
     "execution_count": 42,
     "metadata": {},
     "output_type": "execute_result"
    }
   ],
   "source": [
    "x=27\n",
    "y=4\n",
    "z=x%y\n",
    "z"
   ]
  },
  {
   "cell_type": "code",
   "execution_count": 43,
   "id": "18dad81b",
   "metadata": {},
   "outputs": [
    {
     "data": {
      "text/plain": [
       "0"
      ]
     },
     "execution_count": 43,
     "metadata": {},
     "output_type": "execute_result"
    }
   ],
   "source": [
    "x=28\n",
    "y=4\n",
    "z=x%y\n",
    "z"
   ]
  },
  {
   "cell_type": "code",
   "execution_count": 44,
   "id": "951eaaee",
   "metadata": {},
   "outputs": [
    {
     "data": {
      "text/plain": [
       "1"
      ]
     },
     "execution_count": 44,
     "metadata": {},
     "output_type": "execute_result"
    }
   ],
   "source": [
    "x=29\n",
    "y=4\n",
    "z=x%y\n",
    "z"
   ]
  },
  {
   "cell_type": "code",
   "execution_count": 45,
   "id": "3d544e7f",
   "metadata": {},
   "outputs": [
    {
     "data": {
      "text/plain": [
       "4"
      ]
     },
     "execution_count": 45,
     "metadata": {},
     "output_type": "execute_result"
    }
   ],
   "source": [
    "x=4\n",
    "y=27\n",
    "z=x%y\n",
    "z"
   ]
  },
  {
   "cell_type": "markdown",
   "id": "707ff5ae",
   "metadata": {},
   "source": [
    "Modulus ->Numerator > Denominator it returns Remainder else it returns x"
   ]
  },
  {
   "cell_type": "code",
   "execution_count": 46,
   "id": "c7405c14",
   "metadata": {},
   "outputs": [
    {
     "data": {
      "text/plain": [
       "6"
      ]
     },
     "execution_count": 46,
     "metadata": {},
     "output_type": "execute_result"
    }
   ],
   "source": [
    "x=27\n",
    "y=4\n",
    "z=x//y\n",
    "z"
   ]
  },
  {
   "cell_type": "code",
   "execution_count": 47,
   "id": "340c93e3",
   "metadata": {},
   "outputs": [
    {
     "data": {
      "text/plain": [
       "0"
      ]
     },
     "execution_count": 47,
     "metadata": {},
     "output_type": "execute_result"
    }
   ],
   "source": [
    "x=4\n",
    "y=27\n",
    "z=x//y\n",
    "z"
   ]
  },
  {
   "cell_type": "code",
   "execution_count": 48,
   "id": "a73074fe",
   "metadata": {},
   "outputs": [
    {
     "data": {
      "text/plain": [
       "0"
      ]
     },
     "execution_count": 48,
     "metadata": {},
     "output_type": "execute_result"
    }
   ],
   "source": [
    "x=6\n",
    "y=27\n",
    "z=x//y\n",
    "z"
   ]
  },
  {
   "cell_type": "code",
   "execution_count": 49,
   "id": "fc51c4e5",
   "metadata": {},
   "outputs": [
    {
     "data": {
      "text/plain": [
       "32"
      ]
     },
     "execution_count": 49,
     "metadata": {},
     "output_type": "execute_result"
    }
   ],
   "source": [
    "x=2\n",
    "y=5\n",
    "z=x**y\n",
    "z"
   ]
  },
  {
   "cell_type": "markdown",
   "id": "d716aac6",
   "metadata": {},
   "source": [
    "Relational operators"
   ]
  },
  {
   "cell_type": "code",
   "execution_count": 50,
   "id": "5be1aba1",
   "metadata": {},
   "outputs": [
    {
     "data": {
      "text/plain": [
       "False"
      ]
     },
     "execution_count": 50,
     "metadata": {},
     "output_type": "execute_result"
    }
   ],
   "source": [
    "x=25\n",
    "y=30\n",
    "x>y"
   ]
  },
  {
   "cell_type": "code",
   "execution_count": 51,
   "id": "278592d0",
   "metadata": {},
   "outputs": [
    {
     "data": {
      "text/plain": [
       "True"
      ]
     },
     "execution_count": 51,
     "metadata": {},
     "output_type": "execute_result"
    }
   ],
   "source": [
    "x=25\n",
    "y=30\n",
    "x<y"
   ]
  },
  {
   "cell_type": "code",
   "execution_count": 52,
   "id": "369b61d7",
   "metadata": {},
   "outputs": [
    {
     "data": {
      "text/plain": [
       "False"
      ]
     },
     "execution_count": 52,
     "metadata": {},
     "output_type": "execute_result"
    }
   ],
   "source": [
    "x=25\n",
    "y=30\n",
    "x==y"
   ]
  },
  {
   "cell_type": "code",
   "execution_count": 53,
   "id": "b80299f2",
   "metadata": {},
   "outputs": [
    {
     "data": {
      "text/plain": [
       "True"
      ]
     },
     "execution_count": 53,
     "metadata": {},
     "output_type": "execute_result"
    }
   ],
   "source": [
    "x=26\n",
    "y=30\n",
    "x!=y"
   ]
  },
  {
   "cell_type": "code",
   "execution_count": 54,
   "id": "7e9a7d3f",
   "metadata": {},
   "outputs": [
    {
     "data": {
      "text/plain": [
       "True"
      ]
     },
     "execution_count": 54,
     "metadata": {},
     "output_type": "execute_result"
    }
   ],
   "source": [
    "x=30\n",
    "y=25\n",
    "x>=y"
   ]
  },
  {
   "cell_type": "code",
   "execution_count": 55,
   "id": "7d7fac05",
   "metadata": {},
   "outputs": [
    {
     "data": {
      "text/plain": [
       "False"
      ]
     },
     "execution_count": 55,
     "metadata": {},
     "output_type": "execute_result"
    }
   ],
   "source": [
    "x=30\n",
    "y=25\n",
    "x<=y"
   ]
  },
  {
   "cell_type": "markdown",
   "id": "6300eda7",
   "metadata": {},
   "source": [
    "# Logical operators"
   ]
  },
  {
   "cell_type": "code",
   "execution_count": 56,
   "id": "9407f0cf",
   "metadata": {},
   "outputs": [],
   "source": [
    "is_student=True\n",
    "in_college=True\n",
    "in_school=False"
   ]
  },
  {
   "cell_type": "code",
   "execution_count": 57,
   "id": "110d9887",
   "metadata": {},
   "outputs": [
    {
     "data": {
      "text/plain": [
       "True"
      ]
     },
     "execution_count": 57,
     "metadata": {},
     "output_type": "execute_result"
    }
   ],
   "source": [
    "is_student and in_college"
   ]
  },
  {
   "cell_type": "code",
   "execution_count": 58,
   "id": "18024fa0",
   "metadata": {},
   "outputs": [
    {
     "data": {
      "text/plain": [
       "False"
      ]
     },
     "execution_count": 58,
     "metadata": {},
     "output_type": "execute_result"
    }
   ],
   "source": [
    "is_student and in_school"
   ]
  },
  {
   "cell_type": "code",
   "execution_count": 59,
   "id": "0fe2cc68",
   "metadata": {},
   "outputs": [
    {
     "data": {
      "text/plain": [
       "True"
      ]
     },
     "execution_count": 59,
     "metadata": {},
     "output_type": "execute_result"
    }
   ],
   "source": [
    "is_student or in_college"
   ]
  },
  {
   "cell_type": "code",
   "execution_count": 60,
   "id": "966a8ca9",
   "metadata": {},
   "outputs": [
    {
     "data": {
      "text/plain": [
       "True"
      ]
     },
     "execution_count": 60,
     "metadata": {},
     "output_type": "execute_result"
    }
   ],
   "source": [
    "is_student or in_school"
   ]
  },
  {
   "cell_type": "code",
   "execution_count": 61,
   "id": "2e440a23",
   "metadata": {},
   "outputs": [
    {
     "data": {
      "text/plain": [
       "False"
      ]
     },
     "execution_count": 61,
     "metadata": {},
     "output_type": "execute_result"
    }
   ],
   "source": [
    "in_school or in_school"
   ]
  },
  {
   "cell_type": "code",
   "execution_count": 62,
   "id": "4c4e63d4",
   "metadata": {},
   "outputs": [
    {
     "data": {
      "text/plain": [
       "True"
      ]
     },
     "execution_count": 62,
     "metadata": {},
     "output_type": "execute_result"
    }
   ],
   "source": [
    "not(in_school)"
   ]
  },
  {
   "cell_type": "code",
   "execution_count": 63,
   "id": "09856087",
   "metadata": {},
   "outputs": [
    {
     "data": {
      "text/plain": [
       "False"
      ]
     },
     "execution_count": 63,
     "metadata": {},
     "output_type": "execute_result"
    }
   ],
   "source": [
    "not(in_college)"
   ]
  },
  {
   "cell_type": "markdown",
   "id": "30f47a30",
   "metadata": {},
   "source": [
    "# Membership operators"
   ]
  },
  {
   "cell_type": "code",
   "execution_count": 64,
   "id": "694429e0",
   "metadata": {},
   "outputs": [
    {
     "name": "stdout",
     "output_type": "stream",
     "text": [
      "True\n"
     ]
    }
   ],
   "source": [
    "vowels=\"aeiou\"\n",
    "print(\"u\" in vowels)"
   ]
  },
  {
   "cell_type": "code",
   "execution_count": 65,
   "id": "bba4d2be",
   "metadata": {},
   "outputs": [
    {
     "name": "stdout",
     "output_type": "stream",
     "text": [
      "False\n"
     ]
    }
   ],
   "source": [
    "print(\"l\" in vowels)"
   ]
  },
  {
   "cell_type": "code",
   "execution_count": 66,
   "id": "a6b59210",
   "metadata": {},
   "outputs": [
    {
     "name": "stdout",
     "output_type": "stream",
     "text": [
      "False\n"
     ]
    }
   ],
   "source": [
    "print(\"u\" not in vowels)"
   ]
  },
  {
   "cell_type": "markdown",
   "id": "dfac6938",
   "metadata": {},
   "source": [
    "# Assignment operators"
   ]
  },
  {
   "cell_type": "code",
   "execution_count": 67,
   "id": "520a426e",
   "metadata": {},
   "outputs": [
    {
     "data": {
      "text/plain": [
       "8"
      ]
     },
     "execution_count": 67,
     "metadata": {},
     "output_type": "execute_result"
    }
   ],
   "source": [
    "a=5\n",
    "b=3\n",
    "a=a+b\n",
    "a"
   ]
  },
  {
   "cell_type": "code",
   "execution_count": 68,
   "id": "582b1f56",
   "metadata": {},
   "outputs": [
    {
     "data": {
      "text/plain": [
       "8"
      ]
     },
     "execution_count": 68,
     "metadata": {},
     "output_type": "execute_result"
    }
   ],
   "source": [
    "a=5\n",
    "b=3\n",
    "a+=b\n",
    "a"
   ]
  },
  {
   "cell_type": "markdown",
   "id": "8c82e7a0",
   "metadata": {},
   "source": [
    "# Conditional statements"
   ]
  },
  {
   "cell_type": "code",
   "execution_count": 69,
   "id": "129870c2",
   "metadata": {},
   "outputs": [
    {
     "name": "stdout",
     "output_type": "stream",
     "text": [
      "50 is greater than zero\n"
     ]
    }
   ],
   "source": [
    "num=50\n",
    "if(num>0):\n",
    "    print(num,\"is greater than zero\")"
   ]
  },
  {
   "cell_type": "code",
   "execution_count": 70,
   "id": "34b33a2d",
   "metadata": {},
   "outputs": [],
   "source": [
    "num=50\n",
    "if(num<0):\n",
    "    print(num,\"is greater than zero\")"
   ]
  },
  {
   "cell_type": "code",
   "execution_count": 71,
   "id": "a31fed4e",
   "metadata": {},
   "outputs": [
    {
     "name": "stdout",
     "output_type": "stream",
     "text": [
      "5 is greater than zero\n"
     ]
    }
   ],
   "source": [
    "num=5\n",
    "if(num>0):\n",
    "    print(num,\"is greater than zero\")\n",
    "else:\n",
    "    print(num,\"is lesser than zero\")"
   ]
  },
  {
   "cell_type": "code",
   "execution_count": 72,
   "id": "34ecd722",
   "metadata": {},
   "outputs": [
    {
     "name": "stdout",
     "output_type": "stream",
     "text": [
      "-5 is lesser than zero\n"
     ]
    }
   ],
   "source": [
    "num=-5\n",
    "if(num>0):\n",
    "    print(num,\"is greater than zero\")\n",
    "else:\n",
    "    print(num,\"is lesser than zero\")"
   ]
  },
  {
   "cell_type": "code",
   "execution_count": 73,
   "id": "bb02f0f4",
   "metadata": {},
   "outputs": [
    {
     "name": "stdout",
     "output_type": "stream",
     "text": [
      "Enter age: 3\n",
      "Bus fare is 30\n"
     ]
    }
   ],
   "source": [
    "age=int(input(\"Enter age: \"))\n",
    "if(0<age<3):\n",
    "    print(\"No fares for age group 0-3\")\n",
    "elif(3<age<10):\n",
    "    print(\"Bus fare is 10\")\n",
    "elif(10<age<20):\n",
    "    print(\"Bus fare is 20\") \n",
    "else:\n",
    "    print(\"Bus fare is 30\")"
   ]
  },
  {
   "cell_type": "code",
   "execution_count": 74,
   "id": "931ffebb",
   "metadata": {},
   "outputs": [],
   "source": [
    "num1=1000\n",
    "num2=2\n",
    "num3=300"
   ]
  },
  {
   "cell_type": "code",
   "execution_count": 75,
   "id": "c2c9aa21",
   "metadata": {},
   "outputs": [
    {
     "name": "stdout",
     "output_type": "stream",
     "text": [
      "num1 is greater\n"
     ]
    }
   ],
   "source": [
    "if(num1>num2) and (num1>num3):\n",
    "  print(\"num1 is greater\")\n",
    "else:\n",
    "  if(num3>num2):\n",
    "    print(\"num3 is greater\")\n",
    "  else:\n",
    "    print(\"num2 is greater\")"
   ]
  },
  {
   "cell_type": "markdown",
   "id": "bbd2fbd0",
   "metadata": {},
   "source": [
    "# Day3"
   ]
  },
  {
   "cell_type": "markdown",
   "id": "f350919d",
   "metadata": {},
   "source": [
    "Strings"
   ]
  },
  {
   "cell_type": "code",
   "execution_count": 76,
   "id": "cd88db1b",
   "metadata": {},
   "outputs": [
    {
     "name": "stdout",
     "output_type": "stream",
     "text": [
      "Rahul\n"
     ]
    },
    {
     "data": {
      "text/plain": [
       "str"
      ]
     },
     "execution_count": 76,
     "metadata": {},
     "output_type": "execute_result"
    }
   ],
   "source": [
    "name=\"Rahul\"\n",
    "print(name)\n",
    "type(name)"
   ]
  },
  {
   "cell_type": "code",
   "execution_count": 77,
   "id": "5c2d6369",
   "metadata": {},
   "outputs": [],
   "source": [
    "text=\"I love Python\""
   ]
  },
  {
   "cell_type": "code",
   "execution_count": 78,
   "id": "c0a47786",
   "metadata": {},
   "outputs": [
    {
     "data": {
      "text/plain": [
       "'I'"
      ]
     },
     "execution_count": 78,
     "metadata": {},
     "output_type": "execute_result"
    }
   ],
   "source": [
    "text[0]"
   ]
  },
  {
   "cell_type": "code",
   "execution_count": 79,
   "id": "fe0f07f7",
   "metadata": {},
   "outputs": [
    {
     "data": {
      "text/plain": [
       "'l'"
      ]
     },
     "execution_count": 79,
     "metadata": {},
     "output_type": "execute_result"
    }
   ],
   "source": [
    "text[2]"
   ]
  },
  {
   "cell_type": "code",
   "execution_count": 80,
   "id": "33c989ce",
   "metadata": {},
   "outputs": [
    {
     "data": {
      "text/plain": [
       "'n'"
      ]
     },
     "execution_count": 80,
     "metadata": {},
     "output_type": "execute_result"
    }
   ],
   "source": [
    "text[-1]"
   ]
  },
  {
   "cell_type": "code",
   "execution_count": 81,
   "id": "8f3f62a0",
   "metadata": {},
   "outputs": [
    {
     "data": {
      "text/plain": [
       "'t'"
      ]
     },
     "execution_count": 81,
     "metadata": {},
     "output_type": "execute_result"
    }
   ],
   "source": [
    "text[-4]"
   ]
  },
  {
   "cell_type": "code",
   "execution_count": 82,
   "id": "847dced5",
   "metadata": {},
   "outputs": [
    {
     "data": {
      "text/plain": [
       "'I love Python'"
      ]
     },
     "execution_count": 82,
     "metadata": {},
     "output_type": "execute_result"
    }
   ],
   "source": [
    "text[:]"
   ]
  },
  {
   "cell_type": "code",
   "execution_count": 83,
   "id": "b89721dc",
   "metadata": {},
   "outputs": [
    {
     "data": {
      "text/plain": [
       "'love'"
      ]
     },
     "execution_count": 83,
     "metadata": {},
     "output_type": "execute_result"
    }
   ],
   "source": [
    "text[2:6]"
   ]
  },
  {
   "cell_type": "code",
   "execution_count": 84,
   "id": "ba0d4248",
   "metadata": {},
   "outputs": [
    {
     "data": {
      "text/plain": [
       "'I love Python'"
      ]
     },
     "execution_count": 84,
     "metadata": {},
     "output_type": "execute_result"
    }
   ],
   "source": [
    "text[:len(text)]"
   ]
  },
  {
   "cell_type": "code",
   "execution_count": 85,
   "id": "57767a55",
   "metadata": {},
   "outputs": [
    {
     "data": {
      "text/plain": [
       "'love Python'"
      ]
     },
     "execution_count": 85,
     "metadata": {},
     "output_type": "execute_result"
    }
   ],
   "source": [
    "text[2:]"
   ]
  },
  {
   "cell_type": "code",
   "execution_count": 86,
   "id": "189c8f41",
   "metadata": {},
   "outputs": [
    {
     "data": {
      "text/plain": [
       "'nohtyP evol I'"
      ]
     },
     "execution_count": 86,
     "metadata": {},
     "output_type": "execute_result"
    }
   ],
   "source": [
    "text[::-1]"
   ]
  },
  {
   "cell_type": "code",
   "execution_count": 87,
   "id": "56dce6e4",
   "metadata": {},
   "outputs": [
    {
     "data": {
      "text/plain": [
       "'love Pytho'"
      ]
     },
     "execution_count": 87,
     "metadata": {},
     "output_type": "execute_result"
    }
   ],
   "source": [
    "text[2:12]"
   ]
  },
  {
   "cell_type": "code",
   "execution_count": 88,
   "id": "2d56e505",
   "metadata": {},
   "outputs": [
    {
     "data": {
      "text/plain": [
       "' love Pytho'"
      ]
     },
     "execution_count": 88,
     "metadata": {},
     "output_type": "execute_result"
    }
   ],
   "source": [
    "text[1:-1]"
   ]
  },
  {
   "cell_type": "code",
   "execution_count": 89,
   "id": "fa341c34",
   "metadata": {},
   "outputs": [
    {
     "data": {
      "text/plain": [
       "'l'"
      ]
     },
     "execution_count": 89,
     "metadata": {},
     "output_type": "execute_result"
    }
   ],
   "source": [
    "text[2]"
   ]
  },
  {
   "cell_type": "code",
   "execution_count": 90,
   "id": "52bf72d3",
   "metadata": {},
   "outputs": [
    {
     "data": {
      "text/plain": [
       "'nohtyP'"
      ]
     },
     "execution_count": 90,
     "metadata": {},
     "output_type": "execute_result"
    }
   ],
   "source": [
    "text[:-7:-1]"
   ]
  },
  {
   "cell_type": "code",
   "execution_count": 91,
   "id": "b434aa0c",
   "metadata": {},
   "outputs": [
    {
     "data": {
      "text/plain": [
       "'l'"
      ]
     },
     "execution_count": 91,
     "metadata": {},
     "output_type": "execute_result"
    }
   ],
   "source": [
    "### reverse the string and displace the third last letter\n",
    "text[::-1][-3]"
   ]
  },
  {
   "cell_type": "code",
   "execution_count": 92,
   "id": "79bc27e5",
   "metadata": {},
   "outputs": [
    {
     "data": {
      "text/plain": [
       "'I love Data Science'"
      ]
     },
     "execution_count": 92,
     "metadata": {},
     "output_type": "execute_result"
    }
   ],
   "source": [
    "text.replace(\"Python\",\"Data Science\")"
   ]
  },
  {
   "cell_type": "code",
   "execution_count": 93,
   "id": "226e8082",
   "metadata": {},
   "outputs": [
    {
     "data": {
      "text/plain": [
       "'I LOVE PYTHON'"
      ]
     },
     "execution_count": 93,
     "metadata": {},
     "output_type": "execute_result"
    }
   ],
   "source": [
    "text.upper()"
   ]
  },
  {
   "cell_type": "code",
   "execution_count": 94,
   "id": "d3ed915a",
   "metadata": {},
   "outputs": [
    {
     "data": {
      "text/plain": [
       "'i love python'"
      ]
     },
     "execution_count": 94,
     "metadata": {},
     "output_type": "execute_result"
    }
   ],
   "source": [
    "text.lower()"
   ]
  },
  {
   "cell_type": "code",
   "execution_count": 95,
   "id": "0b89b1bf",
   "metadata": {},
   "outputs": [
    {
     "data": {
      "text/plain": [
       "'I Love Python'"
      ]
     },
     "execution_count": 95,
     "metadata": {},
     "output_type": "execute_result"
    }
   ],
   "source": [
    "text.title()"
   ]
  },
  {
   "cell_type": "code",
   "execution_count": 96,
   "id": "6cbbd553",
   "metadata": {},
   "outputs": [
    {
     "data": {
      "text/plain": [
       "'04-06-2023'"
      ]
     },
     "execution_count": 96,
     "metadata": {},
     "output_type": "execute_result"
    }
   ],
   "source": [
    "date=\"04\",\"06\",\"2023\"\n",
    "sep='-'\n",
    "sep.join(date)"
   ]
  },
  {
   "cell_type": "code",
   "execution_count": 97,
   "id": "4a748a95",
   "metadata": {},
   "outputs": [
    {
     "data": {
      "text/plain": [
       "'Python*for*data*science'"
      ]
     },
     "execution_count": 97,
     "metadata": {},
     "output_type": "execute_result"
    }
   ],
   "source": [
    "text=\"***Python*for*data*science***\"\n",
    "text.strip(\"*\")"
   ]
  },
  {
   "cell_type": "code",
   "execution_count": 98,
   "id": "f143dfb3",
   "metadata": {},
   "outputs": [
    {
     "data": {
      "text/plain": [
       "'Python*for*data*science'"
      ]
     },
     "execution_count": 98,
     "metadata": {},
     "output_type": "execute_result"
    }
   ],
   "source": [
    "text=\"***Python*for*data*science\"\n",
    "text.strip(\"*\")"
   ]
  },
  {
   "cell_type": "markdown",
   "id": "1b61bbb1",
   "metadata": {},
   "source": [
    "# List"
   ]
  },
  {
   "cell_type": "code",
   "execution_count": 99,
   "id": "d5dc080e",
   "metadata": {},
   "outputs": [
    {
     "data": {
      "text/plain": [
       "[1, 2, 3, 7, -1, 'hi', 5.7, 1, 1, 1]"
      ]
     },
     "execution_count": 99,
     "metadata": {},
     "output_type": "execute_result"
    }
   ],
   "source": [
    "sample_list=[1,2,3,7,-1,\"hi\",5.7,1,1,1]\n",
    "sample_list"
   ]
  },
  {
   "cell_type": "code",
   "execution_count": 100,
   "id": "5e647afa",
   "metadata": {},
   "outputs": [
    {
     "data": {
      "text/plain": [
       "list"
      ]
     },
     "execution_count": 100,
     "metadata": {},
     "output_type": "execute_result"
    }
   ],
   "source": [
    "type(sample_list)"
   ]
  },
  {
   "cell_type": "markdown",
   "id": "6a77e0cf",
   "metadata": {},
   "source": [
    "Elements in a list are seperated by comma and enclosed in square brackets\n",
    "List is hetrogenous-> Multiple data types\n",
    "List can have duplicates"
   ]
  },
  {
   "cell_type": "code",
   "execution_count": 101,
   "id": "71e38d0e",
   "metadata": {},
   "outputs": [
    {
     "name": "stdout",
     "output_type": "stream",
     "text": [
      "['Python', 'R', 'DS']\n"
     ]
    },
    {
     "data": {
      "text/plain": [
       "list"
      ]
     },
     "execution_count": 101,
     "metadata": {},
     "output_type": "execute_result"
    }
   ],
   "source": [
    "book_list=[\"Python\",\"R\",\"DS\"]\n",
    "print(book_list)\n",
    "type(book_list)"
   ]
  },
  {
   "cell_type": "code",
   "execution_count": 102,
   "id": "6a1d1fbd",
   "metadata": {},
   "outputs": [],
   "source": [
    "novels=[\"Lord of the rings\",\"Harry Potter\",\"Esha\"]"
   ]
  },
  {
   "cell_type": "code",
   "execution_count": 103,
   "id": "5110535d",
   "metadata": {},
   "outputs": [
    {
     "data": {
      "text/plain": [
       "['Python', 'R', 'DS', 'Lord of the rings', 'Harry Potter', 'Esha']"
      ]
     },
     "execution_count": 103,
     "metadata": {},
     "output_type": "execute_result"
    }
   ],
   "source": [
    "library=book_list+novels\n",
    "library"
   ]
  },
  {
   "cell_type": "code",
   "execution_count": 104,
   "id": "fcc0c1a5",
   "metadata": {},
   "outputs": [],
   "source": [
    "novels.append(\"Jumanji\")"
   ]
  },
  {
   "cell_type": "code",
   "execution_count": 105,
   "id": "1406c107",
   "metadata": {},
   "outputs": [
    {
     "data": {
      "text/plain": [
       "['Lord of the rings', 'Harry Potter', 'Esha', 'Jumanji']"
      ]
     },
     "execution_count": 105,
     "metadata": {},
     "output_type": "execute_result"
    }
   ],
   "source": [
    "novels"
   ]
  },
  {
   "cell_type": "code",
   "execution_count": 106,
   "id": "f75e0fc3",
   "metadata": {},
   "outputs": [
    {
     "data": {
      "text/plain": [
       "['Lord of the rings', 'Leader', 'Harry Potter', 'Esha', 'Jumanji']"
      ]
     },
     "execution_count": 106,
     "metadata": {},
     "output_type": "execute_result"
    }
   ],
   "source": [
    "novels.insert(1,\"Leader\")\n",
    "novels"
   ]
  },
  {
   "cell_type": "code",
   "execution_count": 107,
   "id": "52d315b4",
   "metadata": {},
   "outputs": [],
   "source": [
    "avg_prices=[21,22,56,12,11,9,56,78,99,80]\n",
    "avg_prices.sort()"
   ]
  },
  {
   "cell_type": "code",
   "execution_count": 108,
   "id": "0608f8ae",
   "metadata": {},
   "outputs": [
    {
     "data": {
      "text/plain": [
       "[9, 11, 12, 21, 22, 56, 56, 78, 80, 99]"
      ]
     },
     "execution_count": 108,
     "metadata": {},
     "output_type": "execute_result"
    }
   ],
   "source": [
    "avg_prices"
   ]
  },
  {
   "cell_type": "code",
   "execution_count": 109,
   "id": "877aedbf",
   "metadata": {},
   "outputs": [
    {
     "data": {
      "text/plain": [
       "[9, 11, 12, 21, 22, 56, 56, 78, 80, 99]"
      ]
     },
     "execution_count": 109,
     "metadata": {},
     "output_type": "execute_result"
    }
   ],
   "source": [
    "avg_prices_sorted=sorted(avg_prices)\n",
    "avg_prices_sorted"
   ]
  },
  {
   "cell_type": "code",
   "execution_count": 110,
   "id": "ce6b31f4",
   "metadata": {},
   "outputs": [],
   "source": [
    "prod=[\"mango\",\"orange\",\"apple\"]\n",
    "prod.sort()"
   ]
  },
  {
   "cell_type": "code",
   "execution_count": 111,
   "id": "f1c8c519",
   "metadata": {},
   "outputs": [
    {
     "data": {
      "text/plain": [
       "['apple', 'mango', 'orange']"
      ]
     },
     "execution_count": 111,
     "metadata": {},
     "output_type": "execute_result"
    }
   ],
   "source": [
    "prod"
   ]
  },
  {
   "cell_type": "code",
   "execution_count": 112,
   "id": "563bd046",
   "metadata": {},
   "outputs": [],
   "source": [
    "avg_prices.sort(reverse=True)"
   ]
  },
  {
   "cell_type": "code",
   "execution_count": 113,
   "id": "d2b908ee",
   "metadata": {},
   "outputs": [
    {
     "data": {
      "text/plain": [
       "[99, 80, 78, 56, 56, 22, 21, 12, 11, 9]"
      ]
     },
     "execution_count": 113,
     "metadata": {},
     "output_type": "execute_result"
    }
   ],
   "source": [
    "avg_prices"
   ]
  },
  {
   "cell_type": "code",
   "execution_count": 114,
   "id": "6cace252",
   "metadata": {},
   "outputs": [],
   "source": [
    "prod.sort(reverse=True)"
   ]
  },
  {
   "cell_type": "code",
   "execution_count": 115,
   "id": "2c961768",
   "metadata": {},
   "outputs": [
    {
     "data": {
      "text/plain": [
       "['orange', 'mango', 'apple']"
      ]
     },
     "execution_count": 115,
     "metadata": {},
     "output_type": "execute_result"
    }
   ],
   "source": [
    "prod"
   ]
  },
  {
   "cell_type": "code",
   "execution_count": 116,
   "id": "97894de1",
   "metadata": {},
   "outputs": [
    {
     "data": {
      "text/plain": [
       "[9, 11, 12, 12.6, 21, 22, 56]"
      ]
     },
     "execution_count": 116,
     "metadata": {},
     "output_type": "execute_result"
    }
   ],
   "source": [
    "avg_prices=[21,22,56,12,11,9,12.6]\n",
    "avg_prices.sort()\n",
    "avg_prices"
   ]
  },
  {
   "cell_type": "code",
   "execution_count": 117,
   "id": "2193df5b",
   "metadata": {},
   "outputs": [
    {
     "ename": "TypeError",
     "evalue": "'<' not supported between instances of 'str' and 'float'",
     "output_type": "error",
     "traceback": [
      "\u001b[1;31m---------------------------------------------------------------------------\u001b[0m",
      "\u001b[1;31mTypeError\u001b[0m                                 Traceback (most recent call last)",
      "\u001b[1;32m~\\AppData\\Local\\Temp\\ipykernel_13532\\102931510.py\u001b[0m in \u001b[0;36m<module>\u001b[1;34m\u001b[0m\n\u001b[0;32m      1\u001b[0m \u001b[0mavg_prices\u001b[0m\u001b[1;33m=\u001b[0m\u001b[1;33m[\u001b[0m\u001b[1;36m21\u001b[0m\u001b[1;33m,\u001b[0m\u001b[1;36m22\u001b[0m\u001b[1;33m,\u001b[0m\u001b[1;36m56\u001b[0m\u001b[1;33m,\u001b[0m\u001b[1;36m12\u001b[0m\u001b[1;33m,\u001b[0m\u001b[1;36m11\u001b[0m\u001b[1;33m,\u001b[0m\u001b[1;36m9\u001b[0m\u001b[1;33m,\u001b[0m\u001b[1;36m12.6\u001b[0m\u001b[1;33m,\u001b[0m\u001b[1;34m\"hi\"\u001b[0m\u001b[1;33m]\u001b[0m\u001b[1;33m\u001b[0m\u001b[1;33m\u001b[0m\u001b[0m\n\u001b[1;32m----> 2\u001b[1;33m \u001b[0mavg_prices\u001b[0m\u001b[1;33m.\u001b[0m\u001b[0msort\u001b[0m\u001b[1;33m(\u001b[0m\u001b[1;33m)\u001b[0m\u001b[1;33m\u001b[0m\u001b[1;33m\u001b[0m\u001b[0m\n\u001b[0m\u001b[0;32m      3\u001b[0m \u001b[0mavg_prices\u001b[0m\u001b[1;33m\u001b[0m\u001b[1;33m\u001b[0m\u001b[0m\n",
      "\u001b[1;31mTypeError\u001b[0m: '<' not supported between instances of 'str' and 'float'"
     ]
    }
   ],
   "source": [
    "avg_prices=[21,22,56,12,11,9,12.6,\"hi\"]\n",
    "avg_prices.sort()\n",
    "avg_prices"
   ]
  },
  {
   "cell_type": "code",
   "execution_count": 118,
   "id": "773108fc",
   "metadata": {},
   "outputs": [
    {
     "ename": "TypeError",
     "evalue": "'>' not supported between instances of 'str' and 'int'",
     "output_type": "error",
     "traceback": [
      "\u001b[1;31m---------------------------------------------------------------------------\u001b[0m",
      "\u001b[1;31mTypeError\u001b[0m                                 Traceback (most recent call last)",
      "\u001b[1;32m~\\AppData\\Local\\Temp\\ipykernel_13532\\1249621856.py\u001b[0m in \u001b[0;36m<module>\u001b[1;34m\u001b[0m\n\u001b[1;32m----> 1\u001b[1;33m \u001b[0mmax\u001b[0m\u001b[1;33m(\u001b[0m\u001b[0mavg_prices\u001b[0m\u001b[1;33m)\u001b[0m\u001b[1;33m\u001b[0m\u001b[1;33m\u001b[0m\u001b[0m\n\u001b[0m",
      "\u001b[1;31mTypeError\u001b[0m: '>' not supported between instances of 'str' and 'int'"
     ]
    }
   ],
   "source": [
    "max(avg_prices)"
   ]
  },
  {
   "cell_type": "code",
   "execution_count": 119,
   "id": "536ce55e",
   "metadata": {},
   "outputs": [
    {
     "name": "stdout",
     "output_type": "stream",
     "text": [
      "True\n"
     ]
    }
   ],
   "source": [
    "products=[\"Dairy\",\"Bakery\",\"Grocery\",\"Clothing\"]\n",
    "print(\"Bakery\" in products)"
   ]
  },
  {
   "cell_type": "code",
   "execution_count": 120,
   "id": "6971145d",
   "metadata": {},
   "outputs": [
    {
     "name": "stdout",
     "output_type": "stream",
     "text": [
      "False\n"
     ]
    }
   ],
   "source": [
    "print(\"Bakery\" not in products)"
   ]
  },
  {
   "cell_type": "code",
   "execution_count": 121,
   "id": "f600818c",
   "metadata": {},
   "outputs": [
    {
     "name": "stdout",
     "output_type": "stream",
     "text": [
      "Dairy\n",
      "Bakery\n",
      "Grocery\n",
      "Clothing\n"
     ]
    }
   ],
   "source": [
    "for books in products:\n",
    "    print(books)"
   ]
  },
  {
   "cell_type": "code",
   "execution_count": 122,
   "id": "9fcb0031",
   "metadata": {},
   "outputs": [
    {
     "data": {
      "text/plain": [
       "10"
      ]
     },
     "execution_count": 122,
     "metadata": {},
     "output_type": "execute_result"
    }
   ],
   "source": [
    "prices=[1,2,3,4,8,5,-1,88,99,90]\n",
    "len(prices)"
   ]
  },
  {
   "cell_type": "code",
   "execution_count": 123,
   "id": "799fd857",
   "metadata": {},
   "outputs": [
    {
     "data": {
      "text/plain": [
       "99"
      ]
     },
     "execution_count": 123,
     "metadata": {},
     "output_type": "execute_result"
    }
   ],
   "source": [
    "max(prices)"
   ]
  },
  {
   "cell_type": "code",
   "execution_count": 124,
   "id": "4f111bd0",
   "metadata": {},
   "outputs": [
    {
     "data": {
      "text/plain": [
       "-1"
      ]
     },
     "execution_count": 124,
     "metadata": {},
     "output_type": "execute_result"
    }
   ],
   "source": [
    "min(prices)"
   ]
  },
  {
   "cell_type": "code",
   "execution_count": 125,
   "id": "a407e0c7",
   "metadata": {},
   "outputs": [],
   "source": [
    "products.clear()"
   ]
  },
  {
   "cell_type": "code",
   "execution_count": 126,
   "id": "651a4580",
   "metadata": {},
   "outputs": [
    {
     "data": {
      "text/plain": [
       "[]"
      ]
     },
     "execution_count": 126,
     "metadata": {},
     "output_type": "execute_result"
    }
   ],
   "source": [
    "products"
   ]
  },
  {
   "cell_type": "code",
   "execution_count": 127,
   "id": "2bfe726d",
   "metadata": {},
   "outputs": [
    {
     "data": {
      "text/plain": [
       "5"
      ]
     },
     "execution_count": 127,
     "metadata": {},
     "output_type": "execute_result"
    }
   ],
   "source": [
    "prices=[1,2,3,4,8,5,-1,1,1,1,1]\n",
    "prices.count(1)"
   ]
  },
  {
   "cell_type": "code",
   "execution_count": 128,
   "id": "47eb0712",
   "metadata": {},
   "outputs": [
    {
     "data": {
      "text/plain": [
       "[1, 2, 3, 4, 8, 5, -1, 1, 1, 1, 1, 'hi', 'hello']"
      ]
     },
     "execution_count": 128,
     "metadata": {},
     "output_type": "execute_result"
    }
   ],
   "source": [
    "items=[\"hi\",\"hello\"]\n",
    "prices.extend(items)\n",
    "prices"
   ]
  },
  {
   "cell_type": "code",
   "execution_count": 129,
   "id": "94ce0b0b",
   "metadata": {},
   "outputs": [
    {
     "data": {
      "text/plain": [
       "11"
      ]
     },
     "execution_count": 129,
     "metadata": {},
     "output_type": "execute_result"
    }
   ],
   "source": [
    "prices.index(\"hi\")"
   ]
  },
  {
   "cell_type": "code",
   "execution_count": 130,
   "id": "5dd2b158",
   "metadata": {},
   "outputs": [
    {
     "data": {
      "text/plain": [
       "[1, 2, 'ai', 3, 4, 8, 5, -1, 1, 1, 1, 1, 'hi', 'hello']"
      ]
     },
     "execution_count": 130,
     "metadata": {},
     "output_type": "execute_result"
    }
   ],
   "source": [
    "prices.insert(2,\"ai\")\n",
    "prices"
   ]
  },
  {
   "cell_type": "code",
   "execution_count": 131,
   "id": "da55dd45",
   "metadata": {},
   "outputs": [
    {
     "data": {
      "text/plain": [
       "[1, 2, 3, 4, 8, 5, -1, 1, 1, 1, 1, 'hi', 'hello']"
      ]
     },
     "execution_count": 131,
     "metadata": {},
     "output_type": "execute_result"
    }
   ],
   "source": [
    "prices.pop(2)\n",
    "prices"
   ]
  },
  {
   "cell_type": "code",
   "execution_count": 132,
   "id": "6318a239",
   "metadata": {},
   "outputs": [],
   "source": [
    "prices.remove(\"hello\")"
   ]
  },
  {
   "cell_type": "code",
   "execution_count": 133,
   "id": "054b80dd",
   "metadata": {},
   "outputs": [
    {
     "ename": "ValueError",
     "evalue": "list.remove(x): x not in list",
     "output_type": "error",
     "traceback": [
      "\u001b[1;31m---------------------------------------------------------------------------\u001b[0m",
      "\u001b[1;31mValueError\u001b[0m                                Traceback (most recent call last)",
      "\u001b[1;32m~\\AppData\\Local\\Temp\\ipykernel_13532\\3543631566.py\u001b[0m in \u001b[0;36m<module>\u001b[1;34m\u001b[0m\n\u001b[1;32m----> 1\u001b[1;33m \u001b[0mprices\u001b[0m\u001b[1;33m.\u001b[0m\u001b[0mremove\u001b[0m\u001b[1;33m(\u001b[0m\u001b[1;34m\"hello\"\u001b[0m\u001b[1;33m)\u001b[0m\u001b[1;33m\u001b[0m\u001b[1;33m\u001b[0m\u001b[0m\n\u001b[0m",
      "\u001b[1;31mValueError\u001b[0m: list.remove(x): x not in list"
     ]
    }
   ],
   "source": [
    "prices.remove(\"hello\")"
   ]
  },
  {
   "cell_type": "code",
   "execution_count": 134,
   "id": "ad1a36f4",
   "metadata": {},
   "outputs": [
    {
     "data": {
      "text/plain": [
       "[1, 2, 3, 4, 8, 5, -1, 1, 1, 1, 1, 'hi']"
      ]
     },
     "execution_count": 134,
     "metadata": {},
     "output_type": "execute_result"
    }
   ],
   "source": [
    "prices"
   ]
  },
  {
   "cell_type": "code",
   "execution_count": 135,
   "id": "59924f4c",
   "metadata": {},
   "outputs": [],
   "source": [
    "prices.reverse()"
   ]
  },
  {
   "cell_type": "code",
   "execution_count": 136,
   "id": "42605afa",
   "metadata": {},
   "outputs": [
    {
     "data": {
      "text/plain": [
       "['hi', 1, 1, 1, 1, -1, 5, 8, 4, 3, 2, 1]"
      ]
     },
     "execution_count": 136,
     "metadata": {},
     "output_type": "execute_result"
    }
   ],
   "source": [
    "prices"
   ]
  },
  {
   "cell_type": "code",
   "execution_count": 137,
   "id": "883e07ce",
   "metadata": {},
   "outputs": [
    {
     "data": {
      "text/plain": [
       "['hi', 1, 1]"
      ]
     },
     "execution_count": 137,
     "metadata": {},
     "output_type": "execute_result"
    }
   ],
   "source": [
    "prices[0:3]"
   ]
  },
  {
   "cell_type": "code",
   "execution_count": 138,
   "id": "3cb1292d",
   "metadata": {},
   "outputs": [
    {
     "data": {
      "text/plain": [
       "[1, 1, -1, 5]"
      ]
     },
     "execution_count": 138,
     "metadata": {},
     "output_type": "execute_result"
    }
   ],
   "source": [
    "prices[3:7]"
   ]
  },
  {
   "cell_type": "code",
   "execution_count": 139,
   "id": "61cda5bb",
   "metadata": {},
   "outputs": [
    {
     "data": {
      "text/plain": [
       "1"
      ]
     },
     "execution_count": 139,
     "metadata": {},
     "output_type": "execute_result"
    }
   ],
   "source": [
    "prices[-1]"
   ]
  },
  {
   "cell_type": "code",
   "execution_count": 140,
   "id": "6978ccb4",
   "metadata": {},
   "outputs": [
    {
     "data": {
      "text/plain": [
       "['hi', 1, 1, 1, 1, -1, 5, 8, 4, 3, 2]"
      ]
     },
     "execution_count": 140,
     "metadata": {},
     "output_type": "execute_result"
    }
   ],
   "source": [
    "prices[0:-1]"
   ]
  },
  {
   "cell_type": "code",
   "execution_count": 141,
   "id": "116d54b5",
   "metadata": {},
   "outputs": [
    {
     "data": {
      "text/plain": [
       "['ds', 1, 1, 1, 1, -1, 5, 8, 4, 3, 2, 1]"
      ]
     },
     "execution_count": 141,
     "metadata": {},
     "output_type": "execute_result"
    }
   ],
   "source": [
    "prices[0]=\"ds\"\n",
    "prices"
   ]
  },
  {
   "cell_type": "code",
   "execution_count": 142,
   "id": "c9a31484",
   "metadata": {},
   "outputs": [
    {
     "data": {
      "text/plain": [
       "[100, 2, 3, 4, 5]"
      ]
     },
     "execution_count": 142,
     "metadata": {},
     "output_type": "execute_result"
    }
   ],
   "source": [
    "sample_list=[1,2,3,4,5]\n",
    "sample_list[0]=100\n",
    "sample_list"
   ]
  },
  {
   "cell_type": "markdown",
   "id": "8124427e",
   "metadata": {},
   "source": [
    "List is mutable-> change after creating the list"
   ]
  },
  {
   "cell_type": "code",
   "execution_count": 143,
   "id": "011b0ad8",
   "metadata": {},
   "outputs": [
    {
     "name": "stdout",
     "output_type": "stream",
     "text": [
      "1\n",
      "2\n",
      "3\n",
      "4\n",
      "a\n",
      "b\n"
     ]
    }
   ],
   "source": [
    "l = [1,2,3,4,'a','b'] # Great work!Sreekar Reddy\n",
    "\n",
    "for i in l:\n",
    "  print(i)"
   ]
  },
  {
   "cell_type": "markdown",
   "id": "997d4ebb",
   "metadata": {},
   "source": [
    "# Day 4"
   ]
  },
  {
   "cell_type": "raw",
   "id": "8689b057",
   "metadata": {},
   "source": [
    "Tuple\n",
    "1) Container Object\n",
    "2) Heterogenous-> allows multiple data types\n",
    "3) Can have duplicates\n",
    "4) Immutable\n",
    "5) Elements are seperated by comma,enclosed in paranthesis or without any brackets"
   ]
  },
  {
   "cell_type": "code",
   "execution_count": 144,
   "id": "b56821ba",
   "metadata": {},
   "outputs": [
    {
     "data": {
      "text/plain": [
       "(1, 6, 2.3, 8.3, 'hi')"
      ]
     },
     "execution_count": 144,
     "metadata": {},
     "output_type": "execute_result"
    }
   ],
   "source": [
    "sample_tuple=(1,6,2.3,8.3,\"hi\")\n",
    "sample_tuple"
   ]
  },
  {
   "cell_type": "code",
   "execution_count": 145,
   "id": "b250f2ea",
   "metadata": {},
   "outputs": [
    {
     "data": {
      "text/plain": [
       "tuple"
      ]
     },
     "execution_count": 145,
     "metadata": {},
     "output_type": "execute_result"
    }
   ],
   "source": [
    "type(sample_tuple)"
   ]
  },
  {
   "cell_type": "code",
   "execution_count": 146,
   "id": "10fe7eff",
   "metadata": {},
   "outputs": [
    {
     "data": {
      "text/plain": [
       "(1, 6, 2.3, 8.3, 'hi')"
      ]
     },
     "execution_count": 146,
     "metadata": {},
     "output_type": "execute_result"
    }
   ],
   "source": [
    "sample_tuple2=1,6,2.3,8.3,\"hi\"\n",
    "sample_tuple2"
   ]
  },
  {
   "cell_type": "code",
   "execution_count": 147,
   "id": "c4a76a69",
   "metadata": {},
   "outputs": [
    {
     "data": {
      "text/plain": [
       "tuple"
      ]
     },
     "execution_count": 147,
     "metadata": {},
     "output_type": "execute_result"
    }
   ],
   "source": [
    "type(sample_tuple2)"
   ]
  },
  {
   "cell_type": "code",
   "execution_count": 148,
   "id": "98c87d10",
   "metadata": {},
   "outputs": [
    {
     "name": "stdout",
     "output_type": "stream",
     "text": [
      "(1, 6, 2.3, 8.3, 'hi')\n",
      "(1, 6, 2.3, 8.3, 'hi')\n"
     ]
    }
   ],
   "source": [
    "print(sample_tuple)\n",
    "print(sample_tuple2)"
   ]
  },
  {
   "cell_type": "code",
   "execution_count": 149,
   "id": "53266a44",
   "metadata": {},
   "outputs": [
    {
     "data": {
      "text/plain": [
       "6"
      ]
     },
     "execution_count": 149,
     "metadata": {},
     "output_type": "execute_result"
    }
   ],
   "source": [
    "sample_tuple[1]"
   ]
  },
  {
   "cell_type": "code",
   "execution_count": 150,
   "id": "591d92c0",
   "metadata": {},
   "outputs": [
    {
     "ename": "IndexError",
     "evalue": "tuple index out of range",
     "output_type": "error",
     "traceback": [
      "\u001b[1;31m---------------------------------------------------------------------------\u001b[0m",
      "\u001b[1;31mIndexError\u001b[0m                                Traceback (most recent call last)",
      "\u001b[1;32m~\\AppData\\Local\\Temp\\ipykernel_13532\\802060474.py\u001b[0m in \u001b[0;36m<module>\u001b[1;34m\u001b[0m\n\u001b[1;32m----> 1\u001b[1;33m \u001b[0msample_tuple\u001b[0m\u001b[1;33m[\u001b[0m\u001b[1;36m10\u001b[0m\u001b[1;33m]\u001b[0m\u001b[1;33m\u001b[0m\u001b[1;33m\u001b[0m\u001b[0m\n\u001b[0m",
      "\u001b[1;31mIndexError\u001b[0m: tuple index out of range"
     ]
    }
   ],
   "source": [
    "sample_tuple[10]"
   ]
  },
  {
   "cell_type": "code",
   "execution_count": 151,
   "id": "a8ab2d54",
   "metadata": {},
   "outputs": [
    {
     "ename": "AttributeError",
     "evalue": "'tuple' object has no attribute 'sort'",
     "output_type": "error",
     "traceback": [
      "\u001b[1;31m---------------------------------------------------------------------------\u001b[0m",
      "\u001b[1;31mAttributeError\u001b[0m                            Traceback (most recent call last)",
      "\u001b[1;32m~\\AppData\\Local\\Temp\\ipykernel_13532\\1310408436.py\u001b[0m in \u001b[0;36m<module>\u001b[1;34m\u001b[0m\n\u001b[0;32m      1\u001b[0m \u001b[0msample_tuple\u001b[0m\u001b[1;33m=\u001b[0m\u001b[1;33m(\u001b[0m\u001b[1;36m1\u001b[0m\u001b[1;33m,\u001b[0m\u001b[1;36m6\u001b[0m\u001b[1;33m,\u001b[0m\u001b[1;36m2.3\u001b[0m\u001b[1;33m,\u001b[0m\u001b[1;36m8.3\u001b[0m\u001b[1;33m)\u001b[0m\u001b[1;33m\u001b[0m\u001b[1;33m\u001b[0m\u001b[0m\n\u001b[1;32m----> 2\u001b[1;33m \u001b[0msample_tuple\u001b[0m\u001b[1;33m.\u001b[0m\u001b[0msort\u001b[0m\u001b[1;33m(\u001b[0m\u001b[1;33m)\u001b[0m\u001b[1;33m\u001b[0m\u001b[1;33m\u001b[0m\u001b[0m\n\u001b[0m",
      "\u001b[1;31mAttributeError\u001b[0m: 'tuple' object has no attribute 'sort'"
     ]
    }
   ],
   "source": [
    "sample_tuple=(1,6,2.3,8.3)\n",
    "sample_tuple.sort()"
   ]
  },
  {
   "cell_type": "code",
   "execution_count": 152,
   "id": "8dc518ea",
   "metadata": {},
   "outputs": [
    {
     "data": {
      "text/plain": [
       "[1, 2.3, 6, 8.3]"
      ]
     },
     "execution_count": 152,
     "metadata": {},
     "output_type": "execute_result"
    }
   ],
   "source": [
    "sorted(sample_tuple)"
   ]
  },
  {
   "cell_type": "code",
   "execution_count": 153,
   "id": "1fbd7bca",
   "metadata": {},
   "outputs": [
    {
     "data": {
      "text/plain": [
       "[8.3, 6, 2.3, 1]"
      ]
     },
     "execution_count": 153,
     "metadata": {},
     "output_type": "execute_result"
    }
   ],
   "source": [
    "sorted(sample_tuple,reverse=True)"
   ]
  },
  {
   "cell_type": "code",
   "execution_count": 154,
   "id": "a05b2c42",
   "metadata": {},
   "outputs": [
    {
     "data": {
      "text/plain": [
       "(1,\n",
       " 6,\n",
       " 2.3,\n",
       " 8.3,\n",
       " 1,\n",
       " 6,\n",
       " 2.3,\n",
       " 8.3,\n",
       " 1,\n",
       " 6,\n",
       " 2.3,\n",
       " 8.3,\n",
       " 1,\n",
       " 6,\n",
       " 2.3,\n",
       " 8.3,\n",
       " 1,\n",
       " 6,\n",
       " 2.3,\n",
       " 8.3)"
      ]
     },
     "execution_count": 154,
     "metadata": {},
     "output_type": "execute_result"
    }
   ],
   "source": [
    "n=5\n",
    "rep_tuple=sample_tuple*n\n",
    "rep_tuple"
   ]
  },
  {
   "cell_type": "code",
   "execution_count": 155,
   "id": "dcee6076",
   "metadata": {},
   "outputs": [
    {
     "data": {
      "text/plain": [
       "(1, 2, 3, 4, 5, 7, 8, 1)"
      ]
     },
     "execution_count": 155,
     "metadata": {},
     "output_type": "execute_result"
    }
   ],
   "source": [
    "sample_tup1=(1,2,3,4)\n",
    "sample_tup2=(5,7,8,1)\n",
    "sam=sample_tup1+sample_tup2\n",
    "sam"
   ]
  },
  {
   "cell_type": "code",
   "execution_count": 156,
   "id": "65fca63b",
   "metadata": {},
   "outputs": [
    {
     "data": {
      "text/plain": [
       "(1, 2, 3, 4, 5, 7, 8, 1, 10, 20)"
      ]
     },
     "execution_count": 156,
     "metadata": {},
     "output_type": "execute_result"
    }
   ],
   "source": [
    "sample_tup1=(1,2,3,4)\n",
    "sample_tup2=(5,7,8,1,10,20)\n",
    "sam=sample_tup1+sample_tup2\n",
    "sam"
   ]
  },
  {
   "cell_type": "code",
   "execution_count": 157,
   "id": "93989d6c",
   "metadata": {},
   "outputs": [
    {
     "name": "stdout",
     "output_type": "stream",
     "text": [
      "True\n"
     ]
    }
   ],
   "source": [
    "print(2 in sample_tup1)"
   ]
  },
  {
   "cell_type": "code",
   "execution_count": 158,
   "id": "c76d7b47",
   "metadata": {},
   "outputs": [
    {
     "name": "stdout",
     "output_type": "stream",
     "text": [
      "False\n"
     ]
    }
   ],
   "source": [
    "print(10 in sample_tup1)"
   ]
  },
  {
   "cell_type": "code",
   "execution_count": 159,
   "id": "6e3a46d2",
   "metadata": {},
   "outputs": [
    {
     "name": "stdout",
     "output_type": "stream",
     "text": [
      "True\n"
     ]
    }
   ],
   "source": [
    "print(10 not in sample_tup1)"
   ]
  },
  {
   "cell_type": "code",
   "execution_count": 160,
   "id": "de744343",
   "metadata": {},
   "outputs": [
    {
     "name": "stdout",
     "output_type": "stream",
     "text": [
      "False\n"
     ]
    }
   ],
   "source": [
    "print(10 in sample_tup1)"
   ]
  },
  {
   "cell_type": "code",
   "execution_count": 161,
   "id": "d7aeef4c",
   "metadata": {},
   "outputs": [
    {
     "name": "stdout",
     "output_type": "stream",
     "text": [
      "Python\n",
      "R\n",
      "Excel\n"
     ]
    }
   ],
   "source": [
    "Tools=(\"Python\",\"R\",\"Excel\")\n",
    "for every_tool in Tools:\n",
    "    print(every_tool)"
   ]
  },
  {
   "cell_type": "code",
   "execution_count": 162,
   "id": "6a349558",
   "metadata": {},
   "outputs": [
    {
     "data": {
      "text/plain": [
       "3"
      ]
     },
     "execution_count": 162,
     "metadata": {},
     "output_type": "execute_result"
    }
   ],
   "source": [
    "### How many elements in Tools?\n",
    "len(Tools)"
   ]
  },
  {
   "cell_type": "code",
   "execution_count": 163,
   "id": "bfa5212d",
   "metadata": {},
   "outputs": [
    {
     "data": {
      "text/plain": [
       "789"
      ]
     },
     "execution_count": 163,
     "metadata": {},
     "output_type": "execute_result"
    }
   ],
   "source": [
    "Prices=(100,200,213,132,167,789)\n",
    "max(Prices)"
   ]
  },
  {
   "cell_type": "code",
   "execution_count": 164,
   "id": "2287b21c",
   "metadata": {},
   "outputs": [
    {
     "data": {
      "text/plain": [
       "100"
      ]
     },
     "execution_count": 164,
     "metadata": {},
     "output_type": "execute_result"
    }
   ],
   "source": [
    "min(Prices)"
   ]
  },
  {
   "cell_type": "code",
   "execution_count": 165,
   "id": "6c82808d",
   "metadata": {},
   "outputs": [
    {
     "ename": "TypeError",
     "evalue": "'>' not supported between instances of 'str' and 'int'",
     "output_type": "error",
     "traceback": [
      "\u001b[1;31m---------------------------------------------------------------------------\u001b[0m",
      "\u001b[1;31mTypeError\u001b[0m                                 Traceback (most recent call last)",
      "\u001b[1;32m~\\AppData\\Local\\Temp\\ipykernel_13532\\738209104.py\u001b[0m in \u001b[0;36m<module>\u001b[1;34m\u001b[0m\n\u001b[0;32m      1\u001b[0m \u001b[0mPrices\u001b[0m\u001b[1;33m=\u001b[0m\u001b[1;33m(\u001b[0m\u001b[1;36m100\u001b[0m\u001b[1;33m,\u001b[0m\u001b[1;36m200\u001b[0m\u001b[1;33m,\u001b[0m\u001b[1;36m213\u001b[0m\u001b[1;33m,\u001b[0m\u001b[1;36m132\u001b[0m\u001b[1;33m,\u001b[0m\u001b[1;36m167\u001b[0m\u001b[1;33m,\u001b[0m\u001b[1;36m789\u001b[0m\u001b[1;33m,\u001b[0m\u001b[1;34m\"ai\"\u001b[0m\u001b[1;33m)\u001b[0m\u001b[1;33m\u001b[0m\u001b[1;33m\u001b[0m\u001b[0m\n\u001b[1;32m----> 2\u001b[1;33m \u001b[0mmax\u001b[0m\u001b[1;33m(\u001b[0m\u001b[0mPrices\u001b[0m\u001b[1;33m)\u001b[0m\u001b[1;33m\u001b[0m\u001b[1;33m\u001b[0m\u001b[0m\n\u001b[0m",
      "\u001b[1;31mTypeError\u001b[0m: '>' not supported between instances of 'str' and 'int'"
     ]
    }
   ],
   "source": [
    "Prices=(100,200,213,132,167,789,\"ai\")\n",
    "max(Prices)"
   ]
  },
  {
   "cell_type": "code",
   "execution_count": 166,
   "id": "98c486b4",
   "metadata": {},
   "outputs": [
    {
     "ename": "AttributeError",
     "evalue": "'tuple' object has no attribute 'append'",
     "output_type": "error",
     "traceback": [
      "\u001b[1;31m---------------------------------------------------------------------------\u001b[0m",
      "\u001b[1;31mAttributeError\u001b[0m                            Traceback (most recent call last)",
      "\u001b[1;32m~\\AppData\\Local\\Temp\\ipykernel_13532\\4154915141.py\u001b[0m in \u001b[0;36m<module>\u001b[1;34m\u001b[0m\n\u001b[1;32m----> 1\u001b[1;33m \u001b[0mPrices\u001b[0m\u001b[1;33m.\u001b[0m\u001b[0mappend\u001b[0m\u001b[1;33m(\u001b[0m\u001b[1;36m50\u001b[0m\u001b[1;33m)\u001b[0m\u001b[1;33m\u001b[0m\u001b[1;33m\u001b[0m\u001b[0m\n\u001b[0m",
      "\u001b[1;31mAttributeError\u001b[0m: 'tuple' object has no attribute 'append'"
     ]
    }
   ],
   "source": [
    "Prices.append(50)"
   ]
  },
  {
   "cell_type": "code",
   "execution_count": 167,
   "id": "e79a547c",
   "metadata": {},
   "outputs": [
    {
     "ename": "AttributeError",
     "evalue": "'int' object has no attribute 'append'",
     "output_type": "error",
     "traceback": [
      "\u001b[1;31m---------------------------------------------------------------------------\u001b[0m",
      "\u001b[1;31mAttributeError\u001b[0m                            Traceback (most recent call last)",
      "\u001b[1;32m~\\AppData\\Local\\Temp\\ipykernel_13532\\2968959383.py\u001b[0m in \u001b[0;36m<module>\u001b[1;34m\u001b[0m\n\u001b[1;32m----> 1\u001b[1;33m \u001b[0mPrices\u001b[0m\u001b[1;33m[\u001b[0m\u001b[1;36m2\u001b[0m\u001b[1;33m]\u001b[0m\u001b[1;33m.\u001b[0m\u001b[0mappend\u001b[0m\u001b[1;33m(\u001b[0m\u001b[1;36m50\u001b[0m\u001b[1;33m)\u001b[0m\u001b[1;33m\u001b[0m\u001b[1;33m\u001b[0m\u001b[0m\n\u001b[0m",
      "\u001b[1;31mAttributeError\u001b[0m: 'int' object has no attribute 'append'"
     ]
    }
   ],
   "source": [
    "Prices[2].append(50)"
   ]
  },
  {
   "cell_type": "code",
   "execution_count": 168,
   "id": "7e7a38c4",
   "metadata": {},
   "outputs": [],
   "source": [
    "Prices=(100,200,213,132,167,789,[1,2,3])\n",
    "Prices[6].append(50)"
   ]
  },
  {
   "cell_type": "code",
   "execution_count": 169,
   "id": "377ad5fb",
   "metadata": {},
   "outputs": [
    {
     "data": {
      "text/plain": [
       "(100, 200, 213, 132, 167, 789, [1, 2, 3, 50])"
      ]
     },
     "execution_count": 169,
     "metadata": {},
     "output_type": "execute_result"
    }
   ],
   "source": [
    "Prices"
   ]
  },
  {
   "cell_type": "code",
   "execution_count": 170,
   "id": "7652d0e7",
   "metadata": {},
   "outputs": [
    {
     "data": {
      "text/plain": [
       "(100, 200, 213)"
      ]
     },
     "execution_count": 170,
     "metadata": {},
     "output_type": "execute_result"
    }
   ],
   "source": [
    "Prices[0:3]"
   ]
  },
  {
   "cell_type": "code",
   "execution_count": 171,
   "id": "3ecf3483",
   "metadata": {},
   "outputs": [
    {
     "data": {
      "text/plain": [
       "(1, 2, 3, 4, 5, 6, 7, 8, 9, 10)"
      ]
     },
     "execution_count": 171,
     "metadata": {},
     "output_type": "execute_result"
    }
   ],
   "source": [
    "tuple(range(1,11)) # Sudip"
   ]
  },
  {
   "cell_type": "code",
   "execution_count": 172,
   "id": "586ef65a",
   "metadata": {},
   "outputs": [
    {
     "name": "stdout",
     "output_type": "stream",
     "text": [
      "('apple', 'kiwi', 'cherry')\n"
     ]
    }
   ],
   "source": [
    "x = (\"apple\", \"banana\", \"cherry\") # Hemanth\n",
    "y = list(x)\n",
    "y[1] = \"kiwi\"\n",
    "x = tuple(y)\n",
    "print(x)"
   ]
  },
  {
   "cell_type": "markdown",
   "id": "b03dcf21",
   "metadata": {},
   "source": [
    "# Different types of tuples \n",
    "\n"
   ]
  },
  {
   "cell_type": "code",
   "execution_count": 173,
   "id": "12966b48",
   "metadata": {},
   "outputs": [
    {
     "name": "stdout",
     "output_type": "stream",
     "text": [
      "()\n",
      "(1, 2, 3)\n",
      "(1, 'Hello', 3.4)\n",
      "('mouse', [8, 4, 6], (1, 2, 3))\n"
     ]
    }
   ],
   "source": [
    "# Empty tuple\n",
    "my_tuple = ()\n",
    "print(my_tuple)\n",
    "\n",
    "# Tuple having integers\n",
    "my_tuple = (1, 2, 3)\n",
    "print(my_tuple)\n",
    "\n",
    "# tuple with mixed datatypes\n",
    "my_tuple = (1, \"Hello\", 3.4)\n",
    "print(my_tuple)\n",
    "\n",
    "# nested tuple\n",
    "my_tuple = (\"mouse\", [8, 4, 6], (1, 2, 3))\n",
    "print(my_tuple)"
   ]
  },
  {
   "cell_type": "code",
   "execution_count": 174,
   "id": "8b220c58",
   "metadata": {},
   "outputs": [
    {
     "name": "stdout",
     "output_type": "stream",
     "text": [
      "t\n"
     ]
    }
   ],
   "source": [
    "tuple1=(\"r\",\"r\",\"d\",\"t\")\n",
    "print(tuple1[-1])"
   ]
  },
  {
   "cell_type": "code",
   "execution_count": 175,
   "id": "448c1d51",
   "metadata": {},
   "outputs": [
    {
     "name": "stdout",
     "output_type": "stream",
     "text": [
      "d\n"
     ]
    }
   ],
   "source": [
    "tuple1=(\"r\",\"r\",\"d\",\"t\") # Preeti\n",
    "print(tuple1[-2])"
   ]
  },
  {
   "cell_type": "code",
   "execution_count": 176,
   "id": "09483b56",
   "metadata": {},
   "outputs": [
    {
     "name": "stdout",
     "output_type": "stream",
     "text": [
      "r\n"
     ]
    }
   ],
   "source": [
    "tuple1=(\"r\",\"r\",\"d\",\"t\") # Preeti\n",
    "print(tuple1[1])"
   ]
  },
  {
   "cell_type": "markdown",
   "id": "696b3aa4",
   "metadata": {},
   "source": [
    "# Dictionary"
   ]
  },
  {
   "cell_type": "raw",
   "id": "e40f40fa",
   "metadata": {},
   "source": [
    "1) Key-value pair\n",
    "2) {}\n",
    "3) Indexing- Square bracket\n",
    "4) Mutable"
   ]
  },
  {
   "cell_type": "code",
   "execution_count": 182,
   "id": "ee6955f2",
   "metadata": {},
   "outputs": [],
   "source": [
    "dict_1={'name':\"arun\",\"hobbies\":[\"painting\",\"singing\",\"cooking\"],1:23}"
   ]
  },
  {
   "cell_type": "code",
   "execution_count": 183,
   "id": "5551d1f3",
   "metadata": {},
   "outputs": [
    {
     "data": {
      "text/plain": [
       "{'name': 'arun', 'hobbies': ['painting', 'singing', 'cooking'], 1: 23}"
      ]
     },
     "execution_count": 183,
     "metadata": {},
     "output_type": "execute_result"
    }
   ],
   "source": [
    "dict_1"
   ]
  },
  {
   "cell_type": "code",
   "execution_count": 184,
   "id": "845b8688",
   "metadata": {},
   "outputs": [
    {
     "ename": "NameError",
     "evalue": "name 'keys' is not defined",
     "output_type": "error",
     "traceback": [
      "\u001b[1;31m---------------------------------------------------------------------------\u001b[0m",
      "\u001b[1;31mNameError\u001b[0m                                 Traceback (most recent call last)",
      "\u001b[1;32m~\\AppData\\Local\\Temp\\ipykernel_13532\\3553490241.py\u001b[0m in \u001b[0;36m<module>\u001b[1;34m\u001b[0m\n\u001b[1;32m----> 1\u001b[1;33m \u001b[0mdict_1\u001b[0m\u001b[1;33m[\u001b[0m\u001b[0mkeys\u001b[0m\u001b[1;33m]\u001b[0m\u001b[1;33m\u001b[0m\u001b[1;33m\u001b[0m\u001b[0m\n\u001b[0m",
      "\u001b[1;31mNameError\u001b[0m: name 'keys' is not defined"
     ]
    }
   ],
   "source": [
    "dict_1[keys]"
   ]
  },
  {
   "cell_type": "code",
   "execution_count": 186,
   "id": "acde081c",
   "metadata": {},
   "outputs": [
    {
     "data": {
      "text/plain": [
       "dict_keys(['name', 'hobbies', 1])"
      ]
     },
     "execution_count": 186,
     "metadata": {},
     "output_type": "execute_result"
    }
   ],
   "source": [
    "dict_1.keys()"
   ]
  },
  {
   "cell_type": "code",
   "execution_count": 187,
   "id": "cf0c36f9",
   "metadata": {},
   "outputs": [
    {
     "data": {
      "text/plain": [
       "dict_values(['arun', ['painting', 'singing', 'cooking'], 23])"
      ]
     },
     "execution_count": 187,
     "metadata": {},
     "output_type": "execute_result"
    }
   ],
   "source": [
    "dict_1.values()"
   ]
  },
  {
   "cell_type": "code",
   "execution_count": 188,
   "id": "93b9c58f",
   "metadata": {},
   "outputs": [],
   "source": [
    "dict_1['name']=\"Mukund\""
   ]
  },
  {
   "cell_type": "code",
   "execution_count": 189,
   "id": "e1c99668",
   "metadata": {},
   "outputs": [
    {
     "data": {
      "text/plain": [
       "{'name': 'Mukund', 'hobbies': ['painting', 'singing', 'cooking'], 1: 23}"
      ]
     },
     "execution_count": 189,
     "metadata": {},
     "output_type": "execute_result"
    }
   ],
   "source": [
    "dict_1"
   ]
  },
  {
   "cell_type": "code",
   "execution_count": 190,
   "id": "51a3c91e",
   "metadata": {},
   "outputs": [],
   "source": [
    "dict_1[1]=66"
   ]
  },
  {
   "cell_type": "code",
   "execution_count": 191,
   "id": "cdb02ca8",
   "metadata": {},
   "outputs": [
    {
     "data": {
      "text/plain": [
       "{'name': 'Mukund', 'hobbies': ['painting', 'singing', 'cooking'], 1: 66}"
      ]
     },
     "execution_count": 191,
     "metadata": {},
     "output_type": "execute_result"
    }
   ],
   "source": [
    "dict_1"
   ]
  },
  {
   "cell_type": "code",
   "execution_count": 192,
   "id": "58d55339",
   "metadata": {},
   "outputs": [],
   "source": [
    "del dict_1[\"name\"]"
   ]
  },
  {
   "cell_type": "code",
   "execution_count": 193,
   "id": "c5ab9733",
   "metadata": {},
   "outputs": [
    {
     "data": {
      "text/plain": [
       "{'hobbies': ['painting', 'singing', 'cooking'], 1: 66}"
      ]
     },
     "execution_count": 193,
     "metadata": {},
     "output_type": "execute_result"
    }
   ],
   "source": [
    "dict_1"
   ]
  },
  {
   "cell_type": "code",
   "execution_count": 194,
   "id": "e4e599b2",
   "metadata": {},
   "outputs": [],
   "source": [
    "### Add a new key-value\n",
    "dict_1.update({\"class\":\"ds\"})"
   ]
  },
  {
   "cell_type": "code",
   "execution_count": 195,
   "id": "c60f90e7",
   "metadata": {},
   "outputs": [
    {
     "data": {
      "text/plain": [
       "{'hobbies': ['painting', 'singing', 'cooking'], 1: 66, 'class': 'ds'}"
      ]
     },
     "execution_count": 195,
     "metadata": {},
     "output_type": "execute_result"
    }
   ],
   "source": [
    "dict_1"
   ]
  },
  {
   "cell_type": "code",
   "execution_count": 196,
   "id": "8d779f4b",
   "metadata": {},
   "outputs": [
    {
     "data": {
      "text/plain": [
       "3"
      ]
     },
     "execution_count": 196,
     "metadata": {},
     "output_type": "execute_result"
    }
   ],
   "source": [
    "len(dict_1)"
   ]
  },
  {
   "cell_type": "code",
   "execution_count": 197,
   "id": "069707b6",
   "metadata": {},
   "outputs": [
    {
     "data": {
      "text/plain": [
       "dict"
      ]
     },
     "execution_count": 197,
     "metadata": {},
     "output_type": "execute_result"
    }
   ],
   "source": [
    "type(dict_1)"
   ]
  },
  {
   "cell_type": "code",
   "execution_count": 198,
   "id": "dee175ba",
   "metadata": {},
   "outputs": [
    {
     "data": {
      "text/plain": [
       "dict_items([('hobbies', ['painting', 'singing', 'cooking']), (1, 66), ('class', 'ds')])"
      ]
     },
     "execution_count": 198,
     "metadata": {},
     "output_type": "execute_result"
    }
   ],
   "source": [
    "dict_1.items()"
   ]
  },
  {
   "cell_type": "code",
   "execution_count": 199,
   "id": "d681d4f5",
   "metadata": {},
   "outputs": [
    {
     "data": {
      "text/plain": [
       "['painting', 'singing', 'cooking']"
      ]
     },
     "execution_count": 199,
     "metadata": {},
     "output_type": "execute_result"
    }
   ],
   "source": [
    "dict_1.get(\"hobbies\")"
   ]
  },
  {
   "cell_type": "code",
   "execution_count": 200,
   "id": "8584ae9b",
   "metadata": {},
   "outputs": [
    {
     "data": {
      "text/plain": [
       "'ds'"
      ]
     },
     "execution_count": 200,
     "metadata": {},
     "output_type": "execute_result"
    }
   ],
   "source": [
    "dict_1.get(\"class\")"
   ]
  },
  {
   "cell_type": "markdown",
   "id": "d0eb5645",
   "metadata": {},
   "source": [
    "#  Sets"
   ]
  },
  {
   "cell_type": "code",
   "execution_count": 201,
   "id": "37f2913b",
   "metadata": {},
   "outputs": [],
   "source": [
    "sample_set={1,2,3,4,5,1,13.4,9.6,\"hi\",\"hello\",\"ds\",-1,11.4,21.5}"
   ]
  },
  {
   "cell_type": "code",
   "execution_count": 202,
   "id": "62960d05",
   "metadata": {},
   "outputs": [
    {
     "data": {
      "text/plain": [
       "{-1, 1, 11.4, 13.4, 2, 21.5, 3, 4, 5, 9.6, 'ds', 'hello', 'hi'}"
      ]
     },
     "execution_count": 202,
     "metadata": {},
     "output_type": "execute_result"
    }
   ],
   "source": [
    "sample_set"
   ]
  },
  {
   "cell_type": "code",
   "execution_count": 203,
   "id": "03fd009b",
   "metadata": {},
   "outputs": [
    {
     "ename": "TypeError",
     "evalue": "'set' object is not subscriptable",
     "output_type": "error",
     "traceback": [
      "\u001b[1;31m---------------------------------------------------------------------------\u001b[0m",
      "\u001b[1;31mTypeError\u001b[0m                                 Traceback (most recent call last)",
      "\u001b[1;32m~\\AppData\\Local\\Temp\\ipykernel_13532\\3427908440.py\u001b[0m in \u001b[0;36m<module>\u001b[1;34m\u001b[0m\n\u001b[1;32m----> 1\u001b[1;33m \u001b[0msample_set\u001b[0m\u001b[1;33m[\u001b[0m\u001b[1;36m0\u001b[0m\u001b[1;33m]\u001b[0m\u001b[1;33m\u001b[0m\u001b[1;33m\u001b[0m\u001b[0m\n\u001b[0m",
      "\u001b[1;31mTypeError\u001b[0m: 'set' object is not subscriptable"
     ]
    }
   ],
   "source": [
    "sample_set[0]"
   ]
  },
  {
   "cell_type": "code",
   "execution_count": 204,
   "id": "373a0236",
   "metadata": {},
   "outputs": [
    {
     "ename": "TypeError",
     "evalue": "'set' object does not support item assignment",
     "output_type": "error",
     "traceback": [
      "\u001b[1;31m---------------------------------------------------------------------------\u001b[0m",
      "\u001b[1;31mTypeError\u001b[0m                                 Traceback (most recent call last)",
      "\u001b[1;32m~\\AppData\\Local\\Temp\\ipykernel_13532\\3939722490.py\u001b[0m in \u001b[0;36m<module>\u001b[1;34m\u001b[0m\n\u001b[1;32m----> 1\u001b[1;33m \u001b[0msample_set\u001b[0m\u001b[1;33m[\u001b[0m\u001b[1;36m0\u001b[0m\u001b[1;33m]\u001b[0m\u001b[1;33m=\u001b[0m\u001b[1;36m1\u001b[0m\u001b[1;33m\u001b[0m\u001b[1;33m\u001b[0m\u001b[0m\n\u001b[0m",
      "\u001b[1;31mTypeError\u001b[0m: 'set' object does not support item assignment"
     ]
    }
   ],
   "source": [
    "sample_set[0]=1"
   ]
  },
  {
   "cell_type": "code",
   "execution_count": 205,
   "id": "be9bedd4",
   "metadata": {},
   "outputs": [],
   "source": [
    "sample_set.add(100)"
   ]
  },
  {
   "cell_type": "code",
   "execution_count": 206,
   "id": "e0bf0974",
   "metadata": {},
   "outputs": [
    {
     "data": {
      "text/plain": [
       "{-1, 1, 100, 11.4, 13.4, 2, 21.5, 3, 4, 5, 9.6, 'ds', 'hello', 'hi'}"
      ]
     },
     "execution_count": 206,
     "metadata": {},
     "output_type": "execute_result"
    }
   ],
   "source": [
    "sample_set"
   ]
  },
  {
   "cell_type": "raw",
   "id": "cc0210de",
   "metadata": {},
   "source": [
    "Set does not allow duplicates\n",
    "we cannot retrieve the set using index\n",
    "Set is mutable\n",
    "Set has {}\n",
    "Ordered -First place"
   ]
  },
  {
   "cell_type": "code",
   "execution_count": null,
   "id": "fc93e9af",
   "metadata": {},
   "outputs": [],
   "source": []
  }
 ],
 "metadata": {
  "kernelspec": {
   "display_name": "Python 3 (ipykernel)",
   "language": "python",
   "name": "python3"
  },
  "language_info": {
   "codemirror_mode": {
    "name": "ipython",
    "version": 3
   },
   "file_extension": ".py",
   "mimetype": "text/x-python",
   "name": "python",
   "nbconvert_exporter": "python",
   "pygments_lexer": "ipython3",
   "version": "3.9.13"
  }
 },
 "nbformat": 4,
 "nbformat_minor": 5
}

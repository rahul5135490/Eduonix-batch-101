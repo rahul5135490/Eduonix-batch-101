{
 "cells": [
  {
   "cell_type": "markdown",
   "metadata": {},
   "source": [
    "# Regular Expressions\n",
    "\n",
    "A Python regular expression is a sequence of metacharacters that define a search pattern. We use these patterns in a string-searching algorithm to \"find\" or \"find and replace\" on strings. \n",
    "\n",
    "* The term \"regular expressions\" is frequently shortened to \"RegEx\".\n"
   ]
  },
  {
   "cell_type": "markdown",
   "metadata": {},
   "source": [
    "##### Regular expressions are a powerful tool for pattern matching and text manipulation. Python provides a built-in module called re that allows you to work with regular expressions"
   ]
  },
  {
   "cell_type": "code",
   "execution_count": 1,
   "metadata": {},
   "outputs": [],
   "source": [
    "# Importing the regular expression re package \n",
    "import re"
   ]
  },
  {
   "cell_type": "markdown",
   "metadata": {},
   "source": [
    "Regular expressions are defined as strings and consist of a combination of characters and special symbols. For example, if you want to match the word \"cat\" in a text, you can define a pattern like this:"
   ]
  },
  {
   "cell_type": "markdown",
   "metadata": {},
   "source": [
    "## Find all() function"
   ]
  },
  {
   "cell_type": "code",
   "execution_count": 2,
   "metadata": {},
   "outputs": [
    {
     "name": "stdout",
     "output_type": "stream",
     "text": [
      "['ai', 'ai']\n"
     ]
    }
   ],
   "source": [
    "\n",
    "txt = \"The rain in Spain\"\n",
    "x = re.findall(\"ai\", txt)\n",
    "print(x) #The list contains the matches in the order they are found.\n"
   ]
  },
  {
   "cell_type": "code",
   "execution_count": 3,
   "metadata": {},
   "outputs": [
    {
     "name": "stdout",
     "output_type": "stream",
     "text": [
      "[]\n"
     ]
    }
   ],
   "source": [
    "x = re.findall(\"Portugal\", txt)\n",
    "print(x) #If no matches are found, an empty list is returned:\n"
   ]
  },
  {
   "cell_type": "markdown",
   "metadata": {},
   "source": [
    "## The search() Function"
   ]
  },
  {
   "cell_type": "code",
   "execution_count": 4,
   "metadata": {},
   "outputs": [
    {
     "name": "stdout",
     "output_type": "stream",
     "text": [
      "The first white-space character is located in position: <re.Match object; span=(3, 4), match=' '>\n"
     ]
    }
   ],
   "source": [
    "#Search for the first white-space character in the string:\n",
    "txt1 = \"The rain in Spain and no rain in Rome\"\n",
    "x = re.search(\"\\s\", txt1)\n",
    "\n",
    "print(\"The first white-space character is located in position:\", x)\n"
   ]
  },
  {
   "cell_type": "code",
   "execution_count": 5,
   "metadata": {},
   "outputs": [
    {
     "name": "stdout",
     "output_type": "stream",
     "text": [
      "<re.Match object; span=(7, 8), match=' '>\n"
     ]
    }
   ],
   "source": [
    "txt=\"Therain in Spain\"\n",
    "ax=re.search(\"\\s\",txt)\n",
    "print(ax)"
   ]
  },
  {
   "cell_type": "markdown",
   "metadata": {},
   "source": [
    "## The split() Function"
   ]
  },
  {
   "cell_type": "code",
   "execution_count": 6,
   "metadata": {},
   "outputs": [
    {
     "name": "stdout",
     "output_type": "stream",
     "text": [
      "['The ra', 'n ', 'n Spa', 'n']\n"
     ]
    }
   ],
   "source": [
    "#Split at each white-space character:\n",
    "\n",
    "txt = \"The rain in Spain\"\n",
    "x = re.split(\"i\", txt)\n",
    "print(x)\n"
   ]
  },
  {
   "cell_type": "code",
   "execution_count": 7,
   "metadata": {},
   "outputs": [],
   "source": [
    "x=\"The rain in Spain and no rain in Rome\""
   ]
  },
  {
   "cell_type": "code",
   "execution_count": 8,
   "metadata": {},
   "outputs": [
    {
     "name": "stdout",
     "output_type": "stream",
     "text": [
      "['The', 'rain', 'in', 'Spain and no rain in Rome']\n"
     ]
    }
   ],
   "source": [
    "#controlling the number of occurrences by specifying the maxsplit parameter:\n",
    "x = re.split(\"\\s\", x, 3)\n",
    "print(x)\n"
   ]
  },
  {
   "cell_type": "markdown",
   "metadata": {},
   "source": [
    "## The sub() Function"
   ]
  },
  {
   "cell_type": "code",
   "execution_count": 9,
   "metadata": {},
   "outputs": [
    {
     "name": "stdout",
     "output_type": "stream",
     "text": [
      "The rain in India\n"
     ]
    }
   ],
   "source": [
    "\n",
    "# Replace every white-space character with the number 100:\n",
    "\n",
    "txt = \"The rain in Spain\"\n",
    "x = re.sub(\"Spain\", \"India\", txt)\n",
    "print(x)\n"
   ]
  },
  {
   "cell_type": "code",
   "execution_count": 10,
   "metadata": {},
   "outputs": [
    {
     "name": "stdout",
     "output_type": "stream",
     "text": [
      "TheDanirainDaniinDaniSpain\n"
     ]
    }
   ],
   "source": [
    "\n",
    "# Replace every white-space character with the Dani:\n",
    "x = re.sub(\"\\s\", \"Dani\", txt)\n",
    "print(x)\n"
   ]
  },
  {
   "cell_type": "code",
   "execution_count": 11,
   "metadata": {},
   "outputs": [
    {
     "name": "stdout",
     "output_type": "stream",
     "text": [
      "TheDJrainDJin Spain\n"
     ]
    }
   ],
   "source": [
    "# Replace the first 2 occurrences:\n",
    "x = re.sub(\"\\s\", \"DJ\", txt, 2)\n",
    "print(x)\n"
   ]
  },
  {
   "cell_type": "code",
   "execution_count": 12,
   "metadata": {},
   "outputs": [
    {
     "name": "stdout",
     "output_type": "stream",
     "text": [
      "The rain in India\n"
     ]
    }
   ],
   "source": [
    "\n",
    "# Replace the string with other string\n",
    "x = re.sub(\"Spain\", \"India\", txt)\n",
    "print(x)\n"
   ]
  },
  {
   "cell_type": "code",
   "execution_count": null,
   "metadata": {},
   "outputs": [],
   "source": []
  },
  {
   "cell_type": "markdown",
   "metadata": {},
   "source": [
    "## The match() function"
   ]
  },
  {
   "cell_type": "code",
   "execution_count": 13,
   "metadata": {},
   "outputs": [
    {
     "name": "stdout",
     "output_type": "stream",
     "text": [
      "None\n",
      "<re.Match object; span=(1, 4), match='ani'>\n"
     ]
    }
   ],
   "source": [
    "print(re.match('ani', 'Daniel'))\n",
    "print(re.search('ani', 'Daniel'))"
   ]
  },
  {
   "cell_type": "code",
   "execution_count": 14,
   "metadata": {},
   "outputs": [
    {
     "name": "stdout",
     "output_type": "stream",
     "text": [
      "('Dani',)\n",
      "('DJ',)\n",
      "('Daniel',)\n"
     ]
    }
   ],
   "source": [
    "# the expression \"w+\" and \"\\W\" will match the words starting with letter 'g' and thereafter, \n",
    "#anything which is not started with 'g' is not identified. \n",
    "#To check match for each element in the list or string, we run the forloop. \\W(D\\w+)\n",
    "\n",
    "\n",
    "list = [\"Dani\",\"DJ Daniel Jadi\",\"Daniel Don\",\"ai\",\"art\"]\n",
    "\n",
    "for i in list:\n",
    "    z = re.match(\"(D\\w+)\", i)\n",
    "    if z:\n",
    "        print((z.groups()))\n",
    "\n"
   ]
  },
  {
   "cell_type": "code",
   "execution_count": 15,
   "metadata": {},
   "outputs": [
    {
     "name": "stdout",
     "output_type": "stream",
     "text": [
      "<re.Match object; span=(0, 2), match='Ca'>\n"
     ]
    }
   ],
   "source": [
    "#match checks for a match only at the beginning of the string, \n",
    "#while search checks for a match anywhere in the string.\n",
    "\n",
    "\n",
    "line = \"Cats are smarter than dogs\"\n",
    "\n",
    "matching = re.match('Ca',line)\n",
    "print(matching)\n",
    "\n"
   ]
  },
  {
   "cell_type": "code",
   "execution_count": 16,
   "metadata": {},
   "outputs": [
    {
     "name": "stdout",
     "output_type": "stream",
     "text": [
      "<re.Match object; span=(5, 8), match='are'>\n"
     ]
    }
   ],
   "source": [
    "searching = re.search('are', line)\n",
    "print(searching)\n"
   ]
  },
  {
   "cell_type": "code",
   "execution_count": null,
   "metadata": {},
   "outputs": [],
   "source": []
  },
  {
   "cell_type": "code",
   "execution_count": null,
   "metadata": {},
   "outputs": [],
   "source": []
  },
  {
   "cell_type": "code",
   "execution_count": null,
   "metadata": {},
   "outputs": [],
   "source": []
  },
  {
   "cell_type": "code",
   "execution_count": null,
   "metadata": {},
   "outputs": [],
   "source": []
  }
 ],
 "metadata": {
  "kernelspec": {
   "display_name": "Python 3 (ipykernel)",
   "language": "python",
   "name": "python3"
  },
  "language_info": {
   "codemirror_mode": {
    "name": "ipython",
    "version": 3
   },
   "file_extension": ".py",
   "mimetype": "text/x-python",
   "name": "python",
   "nbconvert_exporter": "python",
   "pygments_lexer": "ipython3",
   "version": "3.10.9"
  }
 },
 "nbformat": 4,
 "nbformat_minor": 2
}

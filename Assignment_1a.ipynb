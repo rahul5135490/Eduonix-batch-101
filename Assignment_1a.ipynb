{
 "cells": [
  {
   "cell_type": "markdown",
   "id": "a6ec266e",
   "metadata": {},
   "source": [
    "# 1). Create a tuple called data with two values, (1, 2) and (3, 4)"
   ]
  },
  {
   "cell_type": "code",
   "execution_count": 1,
   "id": "0e4e13ce",
   "metadata": {},
   "outputs": [],
   "source": [
    "data=((1,2),(3,4))"
   ]
  },
  {
   "cell_type": "code",
   "execution_count": 2,
   "id": "d3b6a529",
   "metadata": {},
   "outputs": [
    {
     "name": "stdout",
     "output_type": "stream",
     "text": [
      "<class 'tuple'>\n",
      "((1, 2), (3, 4))\n"
     ]
    }
   ],
   "source": [
    "print(type(data))\n",
    "print(data)"
   ]
  },
  {
   "cell_type": "markdown",
   "id": "fe7b6669",
   "metadata": {},
   "source": [
    "# 2). Create the list [4, 3, 2, 1] and assign it to variable numbers."
   ]
  },
  {
   "cell_type": "code",
   "execution_count": 3,
   "id": "625d9b11",
   "metadata": {},
   "outputs": [
    {
     "name": "stdout",
     "output_type": "stream",
     "text": [
      "[4, 3, 2, 1]\n"
     ]
    },
    {
     "data": {
      "text/plain": [
       "list"
      ]
     },
     "execution_count": 3,
     "metadata": {},
     "output_type": "execute_result"
    }
   ],
   "source": [
    "num=[4,3,2,1]\n",
    "print(num)\n",
    "type(num)"
   ]
  },
  {
   "cell_type": "markdown",
   "id": "e651d165",
   "metadata": {},
   "source": [
    "# 3). Create a copy of the number list using [:]"
   ]
  },
  {
   "cell_type": "code",
   "execution_count": 4,
   "id": "5e3de375",
   "metadata": {},
   "outputs": [],
   "source": [
    "copy=num[:]"
   ]
  },
  {
   "cell_type": "code",
   "execution_count": 5,
   "id": "90cc7498",
   "metadata": {},
   "outputs": [
    {
     "name": "stdout",
     "output_type": "stream",
     "text": [
      "[4, 3, 2, 1]\n"
     ]
    },
    {
     "data": {
      "text/plain": [
       "list"
      ]
     },
     "execution_count": 5,
     "metadata": {},
     "output_type": "execute_result"
    }
   ],
   "source": [
    "print(copy)\n",
    "type(copy)"
   ]
  },
  {
   "cell_type": "markdown",
   "id": "48092396",
   "metadata": {},
   "source": [
    "# 4). Sort the numbers list in numerical order"
   ]
  },
  {
   "cell_type": "code",
   "execution_count": 6,
   "id": "bc4a642b",
   "metadata": {},
   "outputs": [
    {
     "data": {
      "text/plain": [
       "[1, 2, 3, 4]"
      ]
     },
     "execution_count": 6,
     "metadata": {},
     "output_type": "execute_result"
    }
   ],
   "source": [
    "num.sort()\n",
    "num"
   ]
  },
  {
   "cell_type": "markdown",
   "id": "6485924d",
   "metadata": {},
   "source": [
    "# 5). Create a tuple \"cardinal_numbers\" with \"first\", \"second\" and \"third\""
   ]
  },
  {
   "cell_type": "code",
   "execution_count": 7,
   "id": "5877dbb4",
   "metadata": {},
   "outputs": [
    {
     "data": {
      "text/plain": [
       "('first', 'second', 'third')"
      ]
     },
     "execution_count": 7,
     "metadata": {},
     "output_type": "execute_result"
    }
   ],
   "source": [
    "cardinal_numbers=('first','second','third')\n",
    "cardinal_numbers"
   ]
  },
  {
   "cell_type": "markdown",
   "id": "ca4dcf00",
   "metadata": {},
   "source": [
    "# 6) Display the second object in the above tuple"
   ]
  },
  {
   "cell_type": "code",
   "execution_count": 8,
   "id": "9e25b0a5",
   "metadata": {},
   "outputs": [
    {
     "data": {
      "text/plain": [
       "'second'"
      ]
     },
     "execution_count": 8,
     "metadata": {},
     "output_type": "execute_result"
    }
   ],
   "source": [
    "cardinal_numbers[1]"
   ]
  },
  {
   "cell_type": "markdown",
   "id": "dcad6ccb",
   "metadata": {},
   "source": [
    "# 7). Unpack the tuple into three strings and display them"
   ]
  },
  {
   "cell_type": "code",
   "execution_count": 9,
   "id": "9426360c",
   "metadata": {},
   "outputs": [
    {
     "name": "stdout",
     "output_type": "stream",
     "text": [
      "first\n",
      "second\n",
      "third\n"
     ]
    }
   ],
   "source": [
    "position1,position2,position3=cardinal_numbers\n",
    "print(position1)\n",
    "print(position2)\n",
    "print(position3)"
   ]
  },
  {
   "cell_type": "markdown",
   "id": "ccb7042f",
   "metadata": {},
   "source": [
    "OR"
   ]
  },
  {
   "cell_type": "code",
   "execution_count": 10,
   "id": "4a95cc21",
   "metadata": {},
   "outputs": [
    {
     "name": "stdout",
     "output_type": "stream",
     "text": [
      "\n",
      "ram\n",
      "shyam\n",
      "mohan\n",
      "\n",
      "\n"
     ]
    }
   ],
   "source": [
    "students=(\"ram\",\"shyam\",\"mohan\")\n",
    "student1,student2,student3=students\n",
    "print(f\"\"\"\n",
    "{student1}\n",
    "{student2}\n",
    "{student3}\n",
    "\n",
    "\"\"\")"
   ]
  },
  {
   "cell_type": "markdown",
   "id": "b7d1cbe7",
   "metadata": {},
   "source": [
    "# 8). Create a tuple containing the letters of your name from a string"
   ]
  },
  {
   "cell_type": "code",
   "execution_count": 11,
   "id": "c02d5d84",
   "metadata": {},
   "outputs": [
    {
     "data": {
      "text/plain": [
       "('R', 'a', 'h', 'u', 'l')"
      ]
     },
     "execution_count": 11,
     "metadata": {},
     "output_type": "execute_result"
    }
   ],
   "source": [
    "my_name=tuple(\"Rahul\")\n",
    "my_name"
   ]
  },
  {
   "cell_type": "markdown",
   "id": "5c4f98af",
   "metadata": {},
   "source": [
    "# 9). Check whether or not x is in my_name"
   ]
  },
  {
   "cell_type": "code",
   "execution_count": 12,
   "id": "6ee75a77",
   "metadata": {},
   "outputs": [
    {
     "name": "stdout",
     "output_type": "stream",
     "text": [
      "False\n"
     ]
    }
   ],
   "source": [
    "print(\"x\" in my_name)"
   ]
  },
  {
   "cell_type": "code",
   "execution_count": 13,
   "id": "06d4362d",
   "metadata": {},
   "outputs": [
    {
     "name": "stdout",
     "output_type": "stream",
     "text": [
      "True\n"
     ]
    }
   ],
   "source": [
    "print(\"x\" not in my_name)"
   ]
  },
  {
   "cell_type": "markdown",
   "id": "f9b10a99",
   "metadata": {},
   "source": [
    "# 10). Check whether or not s is in my_name"
   ]
  },
  {
   "cell_type": "code",
   "execution_count": 14,
   "id": "2f5c8d64",
   "metadata": {},
   "outputs": [
    {
     "name": "stdout",
     "output_type": "stream",
     "text": [
      "False\n"
     ]
    }
   ],
   "source": [
    "print(\"s\" in my_name)"
   ]
  },
  {
   "cell_type": "code",
   "execution_count": 15,
   "id": "90631f7f",
   "metadata": {},
   "outputs": [
    {
     "name": "stdout",
     "output_type": "stream",
     "text": [
      "True\n"
     ]
    }
   ],
   "source": [
    "print(\"s\" not in my_name)"
   ]
  },
  {
   "cell_type": "code",
   "execution_count": null,
   "id": "b4e6c4f7",
   "metadata": {},
   "outputs": [],
   "source": []
  }
 ],
 "metadata": {
  "kernelspec": {
   "display_name": "Python 3 (ipykernel)",
   "language": "python",
   "name": "python3"
  },
  "language_info": {
   "codemirror_mode": {
    "name": "ipython",
    "version": 3
   },
   "file_extension": ".py",
   "mimetype": "text/x-python",
   "name": "python",
   "nbconvert_exporter": "python",
   "pygments_lexer": "ipython3",
   "version": "3.9.13"
  }
 },
 "nbformat": 4,
 "nbformat_minor": 5
}

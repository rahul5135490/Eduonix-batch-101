{
 "cells": [
  {
   "cell_type": "raw",
   "id": "b551a2d9",
   "metadata": {},
   "source": [
    "Pandas\n",
    "Pandas -Open source library in Python\n",
    "Data Manipulation and analysis"
   ]
  },
  {
   "cell_type": "code",
   "execution_count": 2,
   "id": "23605eb2",
   "metadata": {},
   "outputs": [],
   "source": [
    "import numpy as np\n",
    "import pandas as pd"
   ]
  },
  {
   "cell_type": "raw",
   "id": "c35ba783",
   "metadata": {},
   "source": [
    "Series - One dimensional\n",
    "DataFrame-Multi dimensional"
   ]
  },
  {
   "cell_type": "code",
   "execution_count": 3,
   "id": "2c8b5082",
   "metadata": {},
   "outputs": [
    {
     "data": {
      "text/plain": [
       "0    19\n",
       "1    24\n",
       "2    30\n",
       "3    41\n",
       "4    53\n",
       "dtype: int64"
      ]
     },
     "execution_count": 3,
     "metadata": {},
     "output_type": "execute_result"
    }
   ],
   "source": [
    "age=pd.Series([19,24,30,41,53])\n",
    "age"
   ]
  },
  {
   "cell_type": "code",
   "execution_count": 4,
   "id": "860a39af",
   "metadata": {},
   "outputs": [
    {
     "data": {
      "text/plain": [
       "0    19\n",
       "1    24\n",
       "2    30\n",
       "3    41\n",
       "4    53\n",
       "dtype: int32"
      ]
     },
     "execution_count": 4,
     "metadata": {},
     "output_type": "execute_result"
    }
   ],
   "source": [
    "#### alternate code\n",
    "age=pd.Series(np.array([19,24,30,41,53]))\n",
    "age"
   ]
  },
  {
   "cell_type": "code",
   "execution_count": 5,
   "id": "bb009dd8",
   "metadata": {},
   "outputs": [
    {
     "data": {
      "text/plain": [
       "0     20\n",
       "2     12\n",
       "4     43\n",
       "6     45\n",
       "8     65\n",
       "10    66\n",
       "dtype: int32"
      ]
     },
     "execution_count": 5,
     "metadata": {},
     "output_type": "execute_result"
    }
   ],
   "source": [
    "age=pd.Series(np.array([20,12,43,45,65,66]),index=np.arange(0,12,2))\n",
    "age"
   ]
  },
  {
   "cell_type": "code",
   "execution_count": 6,
   "id": "6fc44360",
   "metadata": {},
   "outputs": [
    {
     "data": {
      "text/plain": [
       "A1    20\n",
       "A2    12\n",
       "A3    43\n",
       "A4    45\n",
       "A5    65\n",
       "A6    66\n",
       "dtype: int32"
      ]
     },
     "execution_count": 6,
     "metadata": {},
     "output_type": "execute_result"
    }
   ],
   "source": [
    "age=pd.Series(np.array([20,12,43,45,65,66]),index=[\"A1\",\"A2\",\"A3\",\"A4\",\"A5\",\"A6\"])\n",
    "age"
   ]
  },
  {
   "cell_type": "code",
   "execution_count": 7,
   "id": "3f0c5232",
   "metadata": {},
   "outputs": [
    {
     "data": {
      "text/plain": [
       "Diary                    23000\n",
       "Soft drinks              45000\n",
       "Fruits and Vegetables    67000\n",
       "dtype: int64"
      ]
     },
     "execution_count": 7,
     "metadata": {},
     "output_type": "execute_result"
    }
   ],
   "source": [
    "prod={\"Diary\":23000,\"Soft drinks\":45000,\"Fruits and Vegetables\":67000}\n",
    "prod1=pd.Series(prod)\n",
    "prod1"
   ]
  },
  {
   "cell_type": "code",
   "execution_count": 8,
   "id": "083f692b",
   "metadata": {},
   "outputs": [
    {
     "data": {
      "text/plain": [
       "x    [Maths, Science, English]\n",
       "y             [Maths, Science]\n",
       "z                    [Science]\n",
       "dtype: object"
      ]
     },
     "execution_count": 8,
     "metadata": {},
     "output_type": "execute_result"
    }
   ],
   "source": [
    "stud={'x':[\"Maths\",\"Science\",\"English\"],'y':[\"Maths\",\"Science\"],'z':[\"Science\"]}\n",
    "sub=pd.Series(stud)\n",
    "sub"
   ]
  },
  {
   "cell_type": "code",
   "execution_count": 9,
   "id": "8f933081",
   "metadata": {},
   "outputs": [
    {
     "data": {
      "text/plain": [
       "x    [Maths, Science, English]\n",
       "y             [Maths, Science]\n",
       "dtype: object"
      ]
     },
     "execution_count": 9,
     "metadata": {},
     "output_type": "execute_result"
    }
   ],
   "source": [
    "sub[[\"x\",\"y\"]]"
   ]
  },
  {
   "cell_type": "code",
   "execution_count": 10,
   "id": "08c80c46",
   "metadata": {},
   "outputs": [
    {
     "data": {
      "text/plain": [
       "Index(['x', 'y', 'z'], dtype='object')"
      ]
     },
     "execution_count": 10,
     "metadata": {},
     "output_type": "execute_result"
    }
   ],
   "source": [
    "sub.index"
   ]
  },
  {
   "cell_type": "code",
   "execution_count": 11,
   "id": "f4d1905b",
   "metadata": {},
   "outputs": [
    {
     "data": {
      "text/plain": [
       "array([list(['Maths', 'Science', 'English']), list(['Maths', 'Science']),\n",
       "       list(['Science'])], dtype=object)"
      ]
     },
     "execution_count": 11,
     "metadata": {},
     "output_type": "execute_result"
    }
   ],
   "source": [
    "sub.values"
   ]
  },
  {
   "cell_type": "code",
   "execution_count": 12,
   "id": "9968242e",
   "metadata": {},
   "outputs": [],
   "source": [
    "emp=np.array([\"A1\",\"A2\",\"A3\",\"A4\",\"A5\",\"A6\",\"A7\",\"A8\",\"A9\"])\n",
    "emp_series=pd.Series(emp)   "
   ]
  },
  {
   "cell_type": "code",
   "execution_count": 13,
   "id": "e0825380",
   "metadata": {},
   "outputs": [
    {
     "data": {
      "text/plain": [
       "array(['A1', 'A2', 'A3', 'A4', 'A5', 'A6', 'A7', 'A8', 'A9'], dtype='<U2')"
      ]
     },
     "execution_count": 13,
     "metadata": {},
     "output_type": "execute_result"
    }
   ],
   "source": [
    "emp"
   ]
  },
  {
   "cell_type": "code",
   "execution_count": 14,
   "id": "02ba4ad8",
   "metadata": {},
   "outputs": [
    {
     "data": {
      "text/plain": [
       "0    A1\n",
       "1    A2\n",
       "2    A3\n",
       "3    A4\n",
       "4    A5\n",
       "5    A6\n",
       "6    A7\n",
       "7    A8\n",
       "8    A9\n",
       "dtype: object"
      ]
     },
     "execution_count": 14,
     "metadata": {},
     "output_type": "execute_result"
    }
   ],
   "source": [
    "emp_series"
   ]
  },
  {
   "cell_type": "code",
   "execution_count": 15,
   "id": "9a8990bf",
   "metadata": {},
   "outputs": [
    {
     "data": {
      "text/plain": [
       "0    A1\n",
       "1    A2\n",
       "2    A3\n",
       "3    A4\n",
       "4    A5\n",
       "5    A6\n",
       "6    A7\n",
       "7    A8\n",
       "8    A9\n",
       "dtype: object"
      ]
     },
     "execution_count": 15,
     "metadata": {},
     "output_type": "execute_result"
    }
   ],
   "source": [
    "emp_series"
   ]
  },
  {
   "cell_type": "code",
   "execution_count": 16,
   "id": "e21b3bb9",
   "metadata": {},
   "outputs": [
    {
     "data": {
      "text/plain": [
       "0    A1\n",
       "1    A2\n",
       "2    A3\n",
       "3    A4\n",
       "4    A5\n",
       "dtype: object"
      ]
     },
     "execution_count": 16,
     "metadata": {},
     "output_type": "execute_result"
    }
   ],
   "source": [
    "emp_series[:5]"
   ]
  },
  {
   "cell_type": "code",
   "execution_count": 17,
   "id": "e1cd7728",
   "metadata": {},
   "outputs": [
    {
     "data": {
      "text/plain": [
       "0    A1\n",
       "1    A2\n",
       "2    A3\n",
       "3    A4\n",
       "4    A5\n",
       "dtype: object"
      ]
     },
     "execution_count": 17,
     "metadata": {},
     "output_type": "execute_result"
    }
   ],
   "source": [
    "emp_series[:5]"
   ]
  },
  {
   "cell_type": "code",
   "execution_count": 18,
   "id": "eeda18c2",
   "metadata": {},
   "outputs": [
    {
     "data": {
      "text/plain": [
       "4    A5\n",
       "5    A6\n",
       "6    A7\n",
       "7    A8\n",
       "8    A9\n",
       "dtype: object"
      ]
     },
     "execution_count": 18,
     "metadata": {},
     "output_type": "execute_result"
    }
   ],
   "source": [
    "emp_series[-5:]"
   ]
  },
  {
   "cell_type": "code",
   "execution_count": 19,
   "id": "e9531f86",
   "metadata": {},
   "outputs": [
    {
     "data": {
      "text/plain": [
       "Sophia    450\n",
       "Mia       303\n",
       "Philip    432\n",
       "Emma      150\n",
       "Lily      293\n",
       "Grace     112\n",
       "dtype: int64"
      ]
     },
     "execution_count": 19,
     "metadata": {},
     "output_type": "execute_result"
    }
   ],
   "source": [
    "stud={'Sophia': 450,'Mia': 303, 'Philip': 432,'Emma': 150,'Lily': 293,'Grace': 112}\n",
    "stud_series=pd.Series(stud)\n",
    "stud_series"
   ]
  },
  {
   "cell_type": "code",
   "execution_count": 20,
   "id": "5ce72a10",
   "metadata": {},
   "outputs": [
    {
     "data": {
      "text/plain": [
       "Sophia    450\n",
       "Mia       303\n",
       "Philip    432\n",
       "dtype: int64"
      ]
     },
     "execution_count": 20,
     "metadata": {},
     "output_type": "execute_result"
    }
   ],
   "source": [
    "stud_series[stud_series>300]"
   ]
  },
  {
   "cell_type": "code",
   "execution_count": 21,
   "id": "603b9093",
   "metadata": {},
   "outputs": [
    {
     "data": {
      "text/plain": [
       "Emma     150\n",
       "Grace    112\n",
       "dtype: int64"
      ]
     },
     "execution_count": 21,
     "metadata": {},
     "output_type": "execute_result"
    }
   ],
   "source": [
    "stud_series[stud_series<200]"
   ]
  },
  {
   "cell_type": "code",
   "execution_count": 22,
   "id": "87f53699",
   "metadata": {},
   "outputs": [
    {
     "data": {
      "text/plain": [
       "Lily    293\n",
       "dtype: int64"
      ]
     },
     "execution_count": 22,
     "metadata": {},
     "output_type": "execute_result"
    }
   ],
   "source": [
    "### between 200 and 300\n",
    "stud_series[(stud_series>200) & (stud_series<300)]"
   ]
  },
  {
   "cell_type": "code",
   "execution_count": 23,
   "id": "f6fa6446",
   "metadata": {},
   "outputs": [],
   "source": [
    "### Concatenation\n",
    "class1=np.linspace(0,20,11)\n",
    "class2=np.linspace(1,21,11)"
   ]
  },
  {
   "cell_type": "code",
   "execution_count": 24,
   "id": "efb571f7",
   "metadata": {},
   "outputs": [],
   "source": [
    "class1_series=pd.Series(class1)\n",
    "class2_series=pd.Series(class2)"
   ]
  },
  {
   "cell_type": "code",
   "execution_count": 25,
   "id": "b9a98e92",
   "metadata": {},
   "outputs": [
    {
     "data": {
      "text/plain": [
       "0      0.0\n",
       "1      2.0\n",
       "2      4.0\n",
       "3      6.0\n",
       "4      8.0\n",
       "5     10.0\n",
       "6     12.0\n",
       "7     14.0\n",
       "8     16.0\n",
       "9     18.0\n",
       "10    20.0\n",
       "0      1.0\n",
       "1      3.0\n",
       "2      5.0\n",
       "3      7.0\n",
       "4      9.0\n",
       "5     11.0\n",
       "6     13.0\n",
       "7     15.0\n",
       "8     17.0\n",
       "9     19.0\n",
       "10    21.0\n",
       "dtype: float64"
      ]
     },
     "execution_count": 25,
     "metadata": {},
     "output_type": "execute_result"
    }
   ],
   "source": [
    "pd.concat([class1_series,class2_series])"
   ]
  },
  {
   "cell_type": "code",
   "execution_count": 26,
   "id": "852d0d70",
   "metadata": {},
   "outputs": [
    {
     "data": {
      "text/plain": [
       "category  index\n",
       "Even      0         0.0\n",
       "          1         2.0\n",
       "          2         4.0\n",
       "          3         6.0\n",
       "          4         8.0\n",
       "          5        10.0\n",
       "          6        12.0\n",
       "          7        14.0\n",
       "          8        16.0\n",
       "          9        18.0\n",
       "          10       20.0\n",
       "Odd       0         1.0\n",
       "          1         3.0\n",
       "          2         5.0\n",
       "          3         7.0\n",
       "          4         9.0\n",
       "          5        11.0\n",
       "          6        13.0\n",
       "          7        15.0\n",
       "          8        17.0\n",
       "          9        19.0\n",
       "          10       21.0\n",
       "dtype: float64"
      ]
     },
     "execution_count": 26,
     "metadata": {},
     "output_type": "execute_result"
    }
   ],
   "source": [
    "pd.concat([class1_series,class2_series],keys=[\"Even\",\"Odd\"],names=[\"category\",\"index\"])\n"
   ]
  },
  {
   "cell_type": "code",
   "execution_count": 27,
   "id": "b3319bc8",
   "metadata": {},
   "outputs": [
    {
     "name": "stderr",
     "output_type": "stream",
     "text": [
      "C:\\Users\\Admin\\AppData\\Local\\Temp\\ipykernel_12536\\4230697910.py:1: FutureWarning: The series.append method is deprecated and will be removed from pandas in a future version. Use pandas.concat instead.\n",
      "  class1_series.append(class2_series,ignore_index=True)\n"
     ]
    },
    {
     "data": {
      "text/plain": [
       "0      0.0\n",
       "1      2.0\n",
       "2      4.0\n",
       "3      6.0\n",
       "4      8.0\n",
       "5     10.0\n",
       "6     12.0\n",
       "7     14.0\n",
       "8     16.0\n",
       "9     18.0\n",
       "10    20.0\n",
       "11     1.0\n",
       "12     3.0\n",
       "13     5.0\n",
       "14     7.0\n",
       "15     9.0\n",
       "16    11.0\n",
       "17    13.0\n",
       "18    15.0\n",
       "19    17.0\n",
       "20    19.0\n",
       "21    21.0\n",
       "dtype: float64"
      ]
     },
     "execution_count": 27,
     "metadata": {},
     "output_type": "execute_result"
    }
   ],
   "source": [
    "class1_series.append(class2_series,ignore_index=True)"
   ]
  },
  {
   "cell_type": "code",
   "execution_count": 28,
   "id": "52e6ad07",
   "metadata": {},
   "outputs": [
    {
     "data": {
      "text/html": [
       "<div>\n",
       "<style scoped>\n",
       "    .dataframe tbody tr th:only-of-type {\n",
       "        vertical-align: middle;\n",
       "    }\n",
       "\n",
       "    .dataframe tbody tr th {\n",
       "        vertical-align: top;\n",
       "    }\n",
       "\n",
       "    .dataframe thead th {\n",
       "        text-align: right;\n",
       "    }\n",
       "</style>\n",
       "<table border=\"1\" class=\"dataframe\">\n",
       "  <thead>\n",
       "    <tr style=\"text-align: right;\">\n",
       "      <th></th>\n",
       "      <th>Month</th>\n",
       "      <th>Store</th>\n",
       "      <th>Sales</th>\n",
       "    </tr>\n",
       "  </thead>\n",
       "  <tbody>\n",
       "    <tr>\n",
       "      <th>0</th>\n",
       "      <td>Jan</td>\n",
       "      <td>A</td>\n",
       "      <td>30124</td>\n",
       "    </tr>\n",
       "    <tr>\n",
       "      <th>1</th>\n",
       "      <td>Jan</td>\n",
       "      <td>B</td>\n",
       "      <td>65214</td>\n",
       "    </tr>\n",
       "    <tr>\n",
       "      <th>2</th>\n",
       "      <td>Jan</td>\n",
       "      <td>C</td>\n",
       "      <td>24550</td>\n",
       "    </tr>\n",
       "    <tr>\n",
       "      <th>3</th>\n",
       "      <td>Jan</td>\n",
       "      <td>D</td>\n",
       "      <td>34645</td>\n",
       "    </tr>\n",
       "    <tr>\n",
       "      <th>4</th>\n",
       "      <td>Jan</td>\n",
       "      <td>E</td>\n",
       "      <td>29314</td>\n",
       "    </tr>\n",
       "    <tr>\n",
       "      <th>5</th>\n",
       "      <td>Feb</td>\n",
       "      <td>A</td>\n",
       "      <td>6500</td>\n",
       "    </tr>\n",
       "    <tr>\n",
       "      <th>6</th>\n",
       "      <td>Feb</td>\n",
       "      <td>B</td>\n",
       "      <td>2900</td>\n",
       "    </tr>\n",
       "    <tr>\n",
       "      <th>7</th>\n",
       "      <td>Feb</td>\n",
       "      <td>C</td>\n",
       "      <td>4600</td>\n",
       "    </tr>\n",
       "    <tr>\n",
       "      <th>8</th>\n",
       "      <td>Feb</td>\n",
       "      <td>D</td>\n",
       "      <td>31500</td>\n",
       "    </tr>\n",
       "    <tr>\n",
       "      <th>9</th>\n",
       "      <td>March</td>\n",
       "      <td>A</td>\n",
       "      <td>14000</td>\n",
       "    </tr>\n",
       "  </tbody>\n",
       "</table>\n",
       "</div>"
      ],
      "text/plain": [
       "   Month Store  Sales\n",
       "0    Jan     A  30124\n",
       "1    Jan     B  65214\n",
       "2    Jan     C  24550\n",
       "3    Jan     D  34645\n",
       "4    Jan     E  29314\n",
       "5    Feb     A   6500\n",
       "6    Feb     B   2900\n",
       "7    Feb     C   4600\n",
       "8    Feb     D  31500\n",
       "9  March     A  14000"
      ]
     },
     "execution_count": 28,
     "metadata": {},
     "output_type": "execute_result"
    }
   ],
   "source": [
    "### DataFrame \n",
    "d2={\"Month\":[\"Jan\",\"Jan\",\"Jan\",\"Jan\",\"Jan\",\"Feb\",\"Feb\",\"Feb\",\"Feb\",\"March\"],\n",
    "   \"Store\":['A','B','C','D','E','A','B','C','D','A'],\n",
    "   \"Sales\":[30124,65214,24550,34645,29314,6500,2900,4600,31500,14000]}\n",
    "\n",
    "df1=pd.DataFrame(d2)\n",
    "df1"
   ]
  },
  {
   "cell_type": "code",
   "execution_count": 29,
   "id": "21dc6f34",
   "metadata": {},
   "outputs": [
    {
     "data": {
      "text/html": [
       "<div>\n",
       "<style scoped>\n",
       "    .dataframe tbody tr th:only-of-type {\n",
       "        vertical-align: middle;\n",
       "    }\n",
       "\n",
       "    .dataframe tbody tr th {\n",
       "        vertical-align: top;\n",
       "    }\n",
       "\n",
       "    .dataframe thead th {\n",
       "        text-align: right;\n",
       "    }\n",
       "</style>\n",
       "<table border=\"1\" class=\"dataframe\">\n",
       "  <thead>\n",
       "    <tr style=\"text-align: right;\">\n",
       "      <th></th>\n",
       "      <th>Month</th>\n",
       "      <th>Store</th>\n",
       "      <th>Sales</th>\n",
       "    </tr>\n",
       "  </thead>\n",
       "  <tbody>\n",
       "    <tr>\n",
       "      <th>0</th>\n",
       "      <td>Jan</td>\n",
       "      <td>A</td>\n",
       "      <td>30124</td>\n",
       "    </tr>\n",
       "    <tr>\n",
       "      <th>1</th>\n",
       "      <td>Jan</td>\n",
       "      <td>B</td>\n",
       "      <td>65214</td>\n",
       "    </tr>\n",
       "    <tr>\n",
       "      <th>2</th>\n",
       "      <td>Jan</td>\n",
       "      <td>C</td>\n",
       "      <td>24550</td>\n",
       "    </tr>\n",
       "    <tr>\n",
       "      <th>3</th>\n",
       "      <td>Jan</td>\n",
       "      <td>D</td>\n",
       "      <td>34645</td>\n",
       "    </tr>\n",
       "    <tr>\n",
       "      <th>4</th>\n",
       "      <td>Jan</td>\n",
       "      <td>E</td>\n",
       "      <td>29314</td>\n",
       "    </tr>\n",
       "  </tbody>\n",
       "</table>\n",
       "</div>"
      ],
      "text/plain": [
       "  Month Store  Sales\n",
       "0   Jan     A  30124\n",
       "1   Jan     B  65214\n",
       "2   Jan     C  24550\n",
       "3   Jan     D  34645\n",
       "4   Jan     E  29314"
      ]
     },
     "execution_count": 29,
     "metadata": {},
     "output_type": "execute_result"
    }
   ],
   "source": [
    "df1.head()"
   ]
  },
  {
   "cell_type": "code",
   "execution_count": 30,
   "id": "ef0ac323",
   "metadata": {},
   "outputs": [
    {
     "data": {
      "text/html": [
       "<div>\n",
       "<style scoped>\n",
       "    .dataframe tbody tr th:only-of-type {\n",
       "        vertical-align: middle;\n",
       "    }\n",
       "\n",
       "    .dataframe tbody tr th {\n",
       "        vertical-align: top;\n",
       "    }\n",
       "\n",
       "    .dataframe thead th {\n",
       "        text-align: right;\n",
       "    }\n",
       "</style>\n",
       "<table border=\"1\" class=\"dataframe\">\n",
       "  <thead>\n",
       "    <tr style=\"text-align: right;\">\n",
       "      <th></th>\n",
       "      <th>Month</th>\n",
       "      <th>Store</th>\n",
       "      <th>Sales</th>\n",
       "    </tr>\n",
       "  </thead>\n",
       "  <tbody>\n",
       "    <tr>\n",
       "      <th>5</th>\n",
       "      <td>Feb</td>\n",
       "      <td>A</td>\n",
       "      <td>6500</td>\n",
       "    </tr>\n",
       "    <tr>\n",
       "      <th>6</th>\n",
       "      <td>Feb</td>\n",
       "      <td>B</td>\n",
       "      <td>2900</td>\n",
       "    </tr>\n",
       "    <tr>\n",
       "      <th>7</th>\n",
       "      <td>Feb</td>\n",
       "      <td>C</td>\n",
       "      <td>4600</td>\n",
       "    </tr>\n",
       "    <tr>\n",
       "      <th>8</th>\n",
       "      <td>Feb</td>\n",
       "      <td>D</td>\n",
       "      <td>31500</td>\n",
       "    </tr>\n",
       "    <tr>\n",
       "      <th>9</th>\n",
       "      <td>March</td>\n",
       "      <td>A</td>\n",
       "      <td>14000</td>\n",
       "    </tr>\n",
       "  </tbody>\n",
       "</table>\n",
       "</div>"
      ],
      "text/plain": [
       "   Month Store  Sales\n",
       "5    Feb     A   6500\n",
       "6    Feb     B   2900\n",
       "7    Feb     C   4600\n",
       "8    Feb     D  31500\n",
       "9  March     A  14000"
      ]
     },
     "execution_count": 30,
     "metadata": {},
     "output_type": "execute_result"
    }
   ],
   "source": [
    "df1.tail()"
   ]
  },
  {
   "cell_type": "code",
   "execution_count": 31,
   "id": "5b17d651",
   "metadata": {},
   "outputs": [
    {
     "data": {
      "text/plain": [
       "(10, 3)"
      ]
     },
     "execution_count": 31,
     "metadata": {},
     "output_type": "execute_result"
    }
   ],
   "source": [
    "df1.shape"
   ]
  },
  {
   "cell_type": "code",
   "execution_count": 32,
   "id": "f27993d3",
   "metadata": {},
   "outputs": [
    {
     "name": "stdout",
     "output_type": "stream",
     "text": [
      "<class 'pandas.core.frame.DataFrame'>\n",
      "RangeIndex: 10 entries, 0 to 9\n",
      "Data columns (total 3 columns):\n",
      " #   Column  Non-Null Count  Dtype \n",
      "---  ------  --------------  ----- \n",
      " 0   Month   10 non-null     object\n",
      " 1   Store   10 non-null     object\n",
      " 2   Sales   10 non-null     int64 \n",
      "dtypes: int64(1), object(2)\n",
      "memory usage: 368.0+ bytes\n"
     ]
    }
   ],
   "source": [
    "df1.info()"
   ]
  },
  {
   "cell_type": "code",
   "execution_count": 33,
   "id": "73496fa6",
   "metadata": {},
   "outputs": [
    {
     "data": {
      "text/plain": [
       "Month    object\n",
       "Store    object\n",
       "Sales     int64\n",
       "dtype: object"
      ]
     },
     "execution_count": 33,
     "metadata": {},
     "output_type": "execute_result"
    }
   ],
   "source": [
    "df1.dtypes"
   ]
  },
  {
   "cell_type": "raw",
   "id": "11d91c25",
   "metadata": {},
   "source": [
    ".iloc-> Retrieves the row and column by index\n",
    ".loc->Retrieve row and column by name"
   ]
  },
  {
   "cell_type": "code",
   "execution_count": 34,
   "id": "3144e35d",
   "metadata": {},
   "outputs": [
    {
     "data": {
      "text/plain": [
       "Month      Jan\n",
       "Store        B\n",
       "Sales    65214\n",
       "Name: 1, dtype: object"
      ]
     },
     "execution_count": 34,
     "metadata": {},
     "output_type": "execute_result"
    }
   ],
   "source": [
    "df1.iloc[1]"
   ]
  },
  {
   "cell_type": "code",
   "execution_count": 35,
   "id": "162c1021",
   "metadata": {},
   "outputs": [
    {
     "data": {
      "text/plain": [
       "Month      Jan\n",
       "Store        A\n",
       "Sales    30124\n",
       "Name: 0, dtype: object"
      ]
     },
     "execution_count": 35,
     "metadata": {},
     "output_type": "execute_result"
    }
   ],
   "source": [
    "df1.iloc[0]"
   ]
  },
  {
   "cell_type": "code",
   "execution_count": 36,
   "id": "13a7ef55",
   "metadata": {},
   "outputs": [
    {
     "data": {
      "text/plain": [
       "'A'"
      ]
     },
     "execution_count": 36,
     "metadata": {},
     "output_type": "execute_result"
    }
   ],
   "source": [
    "df1.iloc[0]['Store']"
   ]
  },
  {
   "cell_type": "code",
   "execution_count": 37,
   "id": "f27e9171",
   "metadata": {},
   "outputs": [
    {
     "data": {
      "text/html": [
       "<div>\n",
       "<style scoped>\n",
       "    .dataframe tbody tr th:only-of-type {\n",
       "        vertical-align: middle;\n",
       "    }\n",
       "\n",
       "    .dataframe tbody tr th {\n",
       "        vertical-align: top;\n",
       "    }\n",
       "\n",
       "    .dataframe thead th {\n",
       "        text-align: right;\n",
       "    }\n",
       "</style>\n",
       "<table border=\"1\" class=\"dataframe\">\n",
       "  <thead>\n",
       "    <tr style=\"text-align: right;\">\n",
       "      <th></th>\n",
       "      <th>Month</th>\n",
       "      <th>Store</th>\n",
       "      <th>Sales</th>\n",
       "    </tr>\n",
       "  </thead>\n",
       "  <tbody>\n",
       "    <tr>\n",
       "      <th>3</th>\n",
       "      <td>Jan</td>\n",
       "      <td>D</td>\n",
       "      <td>34645</td>\n",
       "    </tr>\n",
       "    <tr>\n",
       "      <th>4</th>\n",
       "      <td>Jan</td>\n",
       "      <td>E</td>\n",
       "      <td>29314</td>\n",
       "    </tr>\n",
       "    <tr>\n",
       "      <th>5</th>\n",
       "      <td>Feb</td>\n",
       "      <td>A</td>\n",
       "      <td>6500</td>\n",
       "    </tr>\n",
       "  </tbody>\n",
       "</table>\n",
       "</div>"
      ],
      "text/plain": [
       "  Month Store  Sales\n",
       "3   Jan     D  34645\n",
       "4   Jan     E  29314\n",
       "5   Feb     A   6500"
      ]
     },
     "execution_count": 37,
     "metadata": {},
     "output_type": "execute_result"
    }
   ],
   "source": [
    "df1.iloc[3:6]"
   ]
  },
  {
   "cell_type": "code",
   "execution_count": 38,
   "id": "94cc10ff",
   "metadata": {},
   "outputs": [
    {
     "data": {
      "text/plain": [
       "0    30124\n",
       "1    65214\n",
       "2    24550\n",
       "3    34645\n",
       "4    29314\n",
       "5     6500\n",
       "6     2900\n",
       "7     4600\n",
       "8    31500\n",
       "9    14000\n",
       "Name: Sales, dtype: int64"
      ]
     },
     "execution_count": 38,
     "metadata": {},
     "output_type": "execute_result"
    }
   ],
   "source": [
    "df1.iloc[:,2]"
   ]
  },
  {
   "cell_type": "code",
   "execution_count": 39,
   "id": "fa3bf17a",
   "metadata": {},
   "outputs": [
    {
     "data": {
      "text/html": [
       "<div>\n",
       "<style scoped>\n",
       "    .dataframe tbody tr th:only-of-type {\n",
       "        vertical-align: middle;\n",
       "    }\n",
       "\n",
       "    .dataframe tbody tr th {\n",
       "        vertical-align: top;\n",
       "    }\n",
       "\n",
       "    .dataframe thead th {\n",
       "        text-align: right;\n",
       "    }\n",
       "</style>\n",
       "<table border=\"1\" class=\"dataframe\">\n",
       "  <thead>\n",
       "    <tr style=\"text-align: right;\">\n",
       "      <th></th>\n",
       "      <th>Store</th>\n",
       "      <th>Sales</th>\n",
       "    </tr>\n",
       "  </thead>\n",
       "  <tbody>\n",
       "    <tr>\n",
       "      <th>0</th>\n",
       "      <td>A</td>\n",
       "      <td>30124</td>\n",
       "    </tr>\n",
       "    <tr>\n",
       "      <th>1</th>\n",
       "      <td>B</td>\n",
       "      <td>65214</td>\n",
       "    </tr>\n",
       "    <tr>\n",
       "      <th>2</th>\n",
       "      <td>C</td>\n",
       "      <td>24550</td>\n",
       "    </tr>\n",
       "    <tr>\n",
       "      <th>3</th>\n",
       "      <td>D</td>\n",
       "      <td>34645</td>\n",
       "    </tr>\n",
       "    <tr>\n",
       "      <th>4</th>\n",
       "      <td>E</td>\n",
       "      <td>29314</td>\n",
       "    </tr>\n",
       "    <tr>\n",
       "      <th>5</th>\n",
       "      <td>A</td>\n",
       "      <td>6500</td>\n",
       "    </tr>\n",
       "    <tr>\n",
       "      <th>6</th>\n",
       "      <td>B</td>\n",
       "      <td>2900</td>\n",
       "    </tr>\n",
       "    <tr>\n",
       "      <th>7</th>\n",
       "      <td>C</td>\n",
       "      <td>4600</td>\n",
       "    </tr>\n",
       "    <tr>\n",
       "      <th>8</th>\n",
       "      <td>D</td>\n",
       "      <td>31500</td>\n",
       "    </tr>\n",
       "    <tr>\n",
       "      <th>9</th>\n",
       "      <td>A</td>\n",
       "      <td>14000</td>\n",
       "    </tr>\n",
       "  </tbody>\n",
       "</table>\n",
       "</div>"
      ],
      "text/plain": [
       "  Store  Sales\n",
       "0     A  30124\n",
       "1     B  65214\n",
       "2     C  24550\n",
       "3     D  34645\n",
       "4     E  29314\n",
       "5     A   6500\n",
       "6     B   2900\n",
       "7     C   4600\n",
       "8     D  31500\n",
       "9     A  14000"
      ]
     },
     "execution_count": 39,
     "metadata": {},
     "output_type": "execute_result"
    }
   ],
   "source": [
    "df1.iloc[:,1:]"
   ]
  },
  {
   "cell_type": "code",
   "execution_count": 40,
   "id": "50af468e",
   "metadata": {},
   "outputs": [
    {
     "data": {
      "text/html": [
       "<div>\n",
       "<style scoped>\n",
       "    .dataframe tbody tr th:only-of-type {\n",
       "        vertical-align: middle;\n",
       "    }\n",
       "\n",
       "    .dataframe tbody tr th {\n",
       "        vertical-align: top;\n",
       "    }\n",
       "\n",
       "    .dataframe thead th {\n",
       "        text-align: right;\n",
       "    }\n",
       "</style>\n",
       "<table border=\"1\" class=\"dataframe\">\n",
       "  <thead>\n",
       "    <tr style=\"text-align: right;\">\n",
       "      <th></th>\n",
       "      <th>Month</th>\n",
       "      <th>Store</th>\n",
       "    </tr>\n",
       "  </thead>\n",
       "  <tbody>\n",
       "    <tr>\n",
       "      <th>0</th>\n",
       "      <td>Jan</td>\n",
       "      <td>A</td>\n",
       "    </tr>\n",
       "    <tr>\n",
       "      <th>1</th>\n",
       "      <td>Jan</td>\n",
       "      <td>B</td>\n",
       "    </tr>\n",
       "    <tr>\n",
       "      <th>2</th>\n",
       "      <td>Jan</td>\n",
       "      <td>C</td>\n",
       "    </tr>\n",
       "    <tr>\n",
       "      <th>3</th>\n",
       "      <td>Jan</td>\n",
       "      <td>D</td>\n",
       "    </tr>\n",
       "    <tr>\n",
       "      <th>4</th>\n",
       "      <td>Jan</td>\n",
       "      <td>E</td>\n",
       "    </tr>\n",
       "    <tr>\n",
       "      <th>5</th>\n",
       "      <td>Feb</td>\n",
       "      <td>A</td>\n",
       "    </tr>\n",
       "    <tr>\n",
       "      <th>6</th>\n",
       "      <td>Feb</td>\n",
       "      <td>B</td>\n",
       "    </tr>\n",
       "    <tr>\n",
       "      <th>7</th>\n",
       "      <td>Feb</td>\n",
       "      <td>C</td>\n",
       "    </tr>\n",
       "    <tr>\n",
       "      <th>8</th>\n",
       "      <td>Feb</td>\n",
       "      <td>D</td>\n",
       "    </tr>\n",
       "    <tr>\n",
       "      <th>9</th>\n",
       "      <td>March</td>\n",
       "      <td>A</td>\n",
       "    </tr>\n",
       "  </tbody>\n",
       "</table>\n",
       "</div>"
      ],
      "text/plain": [
       "   Month Store\n",
       "0    Jan     A\n",
       "1    Jan     B\n",
       "2    Jan     C\n",
       "3    Jan     D\n",
       "4    Jan     E\n",
       "5    Feb     A\n",
       "6    Feb     B\n",
       "7    Feb     C\n",
       "8    Feb     D\n",
       "9  March     A"
      ]
     },
     "execution_count": 40,
     "metadata": {},
     "output_type": "execute_result"
    }
   ],
   "source": [
    "df1.iloc[:,:2]"
   ]
  },
  {
   "cell_type": "code",
   "execution_count": 41,
   "id": "0baaade5",
   "metadata": {},
   "outputs": [
    {
     "data": {
      "text/html": [
       "<div>\n",
       "<style scoped>\n",
       "    .dataframe tbody tr th:only-of-type {\n",
       "        vertical-align: middle;\n",
       "    }\n",
       "\n",
       "    .dataframe tbody tr th {\n",
       "        vertical-align: top;\n",
       "    }\n",
       "\n",
       "    .dataframe thead th {\n",
       "        text-align: right;\n",
       "    }\n",
       "</style>\n",
       "<table border=\"1\" class=\"dataframe\">\n",
       "  <thead>\n",
       "    <tr style=\"text-align: right;\">\n",
       "      <th></th>\n",
       "      <th>Month</th>\n",
       "      <th>Sales</th>\n",
       "    </tr>\n",
       "  </thead>\n",
       "  <tbody>\n",
       "    <tr>\n",
       "      <th>0</th>\n",
       "      <td>Jan</td>\n",
       "      <td>30124</td>\n",
       "    </tr>\n",
       "    <tr>\n",
       "      <th>1</th>\n",
       "      <td>Jan</td>\n",
       "      <td>65214</td>\n",
       "    </tr>\n",
       "    <tr>\n",
       "      <th>2</th>\n",
       "      <td>Jan</td>\n",
       "      <td>24550</td>\n",
       "    </tr>\n",
       "    <tr>\n",
       "      <th>3</th>\n",
       "      <td>Jan</td>\n",
       "      <td>34645</td>\n",
       "    </tr>\n",
       "    <tr>\n",
       "      <th>4</th>\n",
       "      <td>Jan</td>\n",
       "      <td>29314</td>\n",
       "    </tr>\n",
       "    <tr>\n",
       "      <th>5</th>\n",
       "      <td>Feb</td>\n",
       "      <td>6500</td>\n",
       "    </tr>\n",
       "    <tr>\n",
       "      <th>6</th>\n",
       "      <td>Feb</td>\n",
       "      <td>2900</td>\n",
       "    </tr>\n",
       "    <tr>\n",
       "      <th>7</th>\n",
       "      <td>Feb</td>\n",
       "      <td>4600</td>\n",
       "    </tr>\n",
       "    <tr>\n",
       "      <th>8</th>\n",
       "      <td>Feb</td>\n",
       "      <td>31500</td>\n",
       "    </tr>\n",
       "    <tr>\n",
       "      <th>9</th>\n",
       "      <td>March</td>\n",
       "      <td>14000</td>\n",
       "    </tr>\n",
       "  </tbody>\n",
       "</table>\n",
       "</div>"
      ],
      "text/plain": [
       "   Month  Sales\n",
       "0    Jan  30124\n",
       "1    Jan  65214\n",
       "2    Jan  24550\n",
       "3    Jan  34645\n",
       "4    Jan  29314\n",
       "5    Feb   6500\n",
       "6    Feb   2900\n",
       "7    Feb   4600\n",
       "8    Feb  31500\n",
       "9  March  14000"
      ]
     },
     "execution_count": 41,
     "metadata": {},
     "output_type": "execute_result"
    }
   ],
   "source": [
    "df1.iloc[:,[0,2]]"
   ]
  },
  {
   "cell_type": "code",
   "execution_count": 42,
   "id": "d6858981",
   "metadata": {},
   "outputs": [
    {
     "data": {
      "text/plain": [
       "65214"
      ]
     },
     "execution_count": 42,
     "metadata": {},
     "output_type": "execute_result"
    }
   ],
   "source": [
    "df1.loc[1][\"Sales\"]"
   ]
  },
  {
   "cell_type": "code",
   "execution_count": 43,
   "id": "83a566a2",
   "metadata": {},
   "outputs": [
    {
     "data": {
      "text/html": [
       "<div>\n",
       "<style scoped>\n",
       "    .dataframe tbody tr th:only-of-type {\n",
       "        vertical-align: middle;\n",
       "    }\n",
       "\n",
       "    .dataframe tbody tr th {\n",
       "        vertical-align: top;\n",
       "    }\n",
       "\n",
       "    .dataframe thead th {\n",
       "        text-align: right;\n",
       "    }\n",
       "</style>\n",
       "<table border=\"1\" class=\"dataframe\">\n",
       "  <thead>\n",
       "    <tr style=\"text-align: right;\">\n",
       "      <th></th>\n",
       "      <th>Month</th>\n",
       "      <th>Store</th>\n",
       "      <th>Sales</th>\n",
       "    </tr>\n",
       "  </thead>\n",
       "  <tbody>\n",
       "    <tr>\n",
       "      <th>0</th>\n",
       "      <td>Jan</td>\n",
       "      <td>A</td>\n",
       "      <td>30124</td>\n",
       "    </tr>\n",
       "    <tr>\n",
       "      <th>1</th>\n",
       "      <td>Jan</td>\n",
       "      <td>B</td>\n",
       "      <td>65214</td>\n",
       "    </tr>\n",
       "    <tr>\n",
       "      <th>2</th>\n",
       "      <td>Jan</td>\n",
       "      <td>C</td>\n",
       "      <td>24550</td>\n",
       "    </tr>\n",
       "    <tr>\n",
       "      <th>3</th>\n",
       "      <td>Jan</td>\n",
       "      <td>D</td>\n",
       "      <td>34645</td>\n",
       "    </tr>\n",
       "    <tr>\n",
       "      <th>4</th>\n",
       "      <td>Jan</td>\n",
       "      <td>E</td>\n",
       "      <td>29314</td>\n",
       "    </tr>\n",
       "    <tr>\n",
       "      <th>5</th>\n",
       "      <td>Feb</td>\n",
       "      <td>A</td>\n",
       "      <td>6500</td>\n",
       "    </tr>\n",
       "    <tr>\n",
       "      <th>6</th>\n",
       "      <td>Feb</td>\n",
       "      <td>B</td>\n",
       "      <td>2900</td>\n",
       "    </tr>\n",
       "    <tr>\n",
       "      <th>7</th>\n",
       "      <td>Feb</td>\n",
       "      <td>C</td>\n",
       "      <td>4600</td>\n",
       "    </tr>\n",
       "    <tr>\n",
       "      <th>8</th>\n",
       "      <td>Feb</td>\n",
       "      <td>D</td>\n",
       "      <td>31500</td>\n",
       "    </tr>\n",
       "    <tr>\n",
       "      <th>9</th>\n",
       "      <td>March</td>\n",
       "      <td>A</td>\n",
       "      <td>14000</td>\n",
       "    </tr>\n",
       "  </tbody>\n",
       "</table>\n",
       "</div>"
      ],
      "text/plain": [
       "   Month Store  Sales\n",
       "0    Jan     A  30124\n",
       "1    Jan     B  65214\n",
       "2    Jan     C  24550\n",
       "3    Jan     D  34645\n",
       "4    Jan     E  29314\n",
       "5    Feb     A   6500\n",
       "6    Feb     B   2900\n",
       "7    Feb     C   4600\n",
       "8    Feb     D  31500\n",
       "9  March     A  14000"
      ]
     },
     "execution_count": 43,
     "metadata": {},
     "output_type": "execute_result"
    }
   ],
   "source": [
    "df1"
   ]
  },
  {
   "cell_type": "code",
   "execution_count": 44,
   "id": "52ae92ea",
   "metadata": {},
   "outputs": [
    {
     "data": {
      "text/html": [
       "<div>\n",
       "<style scoped>\n",
       "    .dataframe tbody tr th:only-of-type {\n",
       "        vertical-align: middle;\n",
       "    }\n",
       "\n",
       "    .dataframe tbody tr th {\n",
       "        vertical-align: top;\n",
       "    }\n",
       "\n",
       "    .dataframe thead th {\n",
       "        text-align: right;\n",
       "    }\n",
       "</style>\n",
       "<table border=\"1\" class=\"dataframe\">\n",
       "  <thead>\n",
       "    <tr style=\"text-align: right;\">\n",
       "      <th></th>\n",
       "      <th>Store</th>\n",
       "      <th>Sales</th>\n",
       "    </tr>\n",
       "  </thead>\n",
       "  <tbody>\n",
       "    <tr>\n",
       "      <th>0</th>\n",
       "      <td>A</td>\n",
       "      <td>30124</td>\n",
       "    </tr>\n",
       "    <tr>\n",
       "      <th>1</th>\n",
       "      <td>B</td>\n",
       "      <td>65214</td>\n",
       "    </tr>\n",
       "    <tr>\n",
       "      <th>2</th>\n",
       "      <td>C</td>\n",
       "      <td>24550</td>\n",
       "    </tr>\n",
       "  </tbody>\n",
       "</table>\n",
       "</div>"
      ],
      "text/plain": [
       "  Store  Sales\n",
       "0     A  30124\n",
       "1     B  65214\n",
       "2     C  24550"
      ]
     },
     "execution_count": 44,
     "metadata": {},
     "output_type": "execute_result"
    }
   ],
   "source": [
    "df1.loc[[0,1,2],[\"Store\",\"Sales\"]]"
   ]
  },
  {
   "cell_type": "code",
   "execution_count": 45,
   "id": "5d223b1c",
   "metadata": {},
   "outputs": [
    {
     "data": {
      "text/html": [
       "<div>\n",
       "<style scoped>\n",
       "    .dataframe tbody tr th:only-of-type {\n",
       "        vertical-align: middle;\n",
       "    }\n",
       "\n",
       "    .dataframe tbody tr th {\n",
       "        vertical-align: top;\n",
       "    }\n",
       "\n",
       "    .dataframe thead th {\n",
       "        text-align: right;\n",
       "    }\n",
       "</style>\n",
       "<table border=\"1\" class=\"dataframe\">\n",
       "  <thead>\n",
       "    <tr style=\"text-align: right;\">\n",
       "      <th></th>\n",
       "      <th>Month</th>\n",
       "      <th>Store</th>\n",
       "      <th>Sales</th>\n",
       "    </tr>\n",
       "  </thead>\n",
       "  <tbody>\n",
       "    <tr>\n",
       "      <th>0</th>\n",
       "      <td>Jan</td>\n",
       "      <td>A</td>\n",
       "      <td>30124</td>\n",
       "    </tr>\n",
       "    <tr>\n",
       "      <th>1</th>\n",
       "      <td>Jan</td>\n",
       "      <td>B</td>\n",
       "      <td>65214</td>\n",
       "    </tr>\n",
       "    <tr>\n",
       "      <th>3</th>\n",
       "      <td>Jan</td>\n",
       "      <td>D</td>\n",
       "      <td>34645</td>\n",
       "    </tr>\n",
       "    <tr>\n",
       "      <th>8</th>\n",
       "      <td>Feb</td>\n",
       "      <td>D</td>\n",
       "      <td>31500</td>\n",
       "    </tr>\n",
       "  </tbody>\n",
       "</table>\n",
       "</div>"
      ],
      "text/plain": [
       "  Month Store  Sales\n",
       "0   Jan     A  30124\n",
       "1   Jan     B  65214\n",
       "3   Jan     D  34645\n",
       "8   Feb     D  31500"
      ]
     },
     "execution_count": 45,
     "metadata": {},
     "output_type": "execute_result"
    }
   ],
   "source": [
    "### sales>30000\n",
    "df1[df1.Sales>30000]"
   ]
  },
  {
   "cell_type": "code",
   "execution_count": 46,
   "id": "42b84f7c",
   "metadata": {},
   "outputs": [
    {
     "data": {
      "text/html": [
       "<div>\n",
       "<style scoped>\n",
       "    .dataframe tbody tr th:only-of-type {\n",
       "        vertical-align: middle;\n",
       "    }\n",
       "\n",
       "    .dataframe tbody tr th {\n",
       "        vertical-align: top;\n",
       "    }\n",
       "\n",
       "    .dataframe thead th {\n",
       "        text-align: right;\n",
       "    }\n",
       "</style>\n",
       "<table border=\"1\" class=\"dataframe\">\n",
       "  <thead>\n",
       "    <tr style=\"text-align: right;\">\n",
       "      <th></th>\n",
       "      <th>Month</th>\n",
       "      <th>Store</th>\n",
       "      <th>Sales</th>\n",
       "    </tr>\n",
       "  </thead>\n",
       "  <tbody>\n",
       "    <tr>\n",
       "      <th>0</th>\n",
       "      <td>Jan</td>\n",
       "      <td>A</td>\n",
       "      <td>30124</td>\n",
       "    </tr>\n",
       "    <tr>\n",
       "      <th>1</th>\n",
       "      <td>Jan</td>\n",
       "      <td>B</td>\n",
       "      <td>65214</td>\n",
       "    </tr>\n",
       "    <tr>\n",
       "      <th>3</th>\n",
       "      <td>Jan</td>\n",
       "      <td>D</td>\n",
       "      <td>34645</td>\n",
       "    </tr>\n",
       "  </tbody>\n",
       "</table>\n",
       "</div>"
      ],
      "text/plain": [
       "  Month Store  Sales\n",
       "0   Jan     A  30124\n",
       "1   Jan     B  65214\n",
       "3   Jan     D  34645"
      ]
     },
     "execution_count": 46,
     "metadata": {},
     "output_type": "execute_result"
    }
   ],
   "source": [
    "### Get the January month sales when >30000\n",
    "df1[(df1.Month==\"Jan\")&(df1.Sales>30000)]"
   ]
  },
  {
   "cell_type": "code",
   "execution_count": 47,
   "id": "6458c169",
   "metadata": {},
   "outputs": [
    {
     "data": {
      "text/html": [
       "<div>\n",
       "<style scoped>\n",
       "    .dataframe tbody tr th:only-of-type {\n",
       "        vertical-align: middle;\n",
       "    }\n",
       "\n",
       "    .dataframe tbody tr th {\n",
       "        vertical-align: top;\n",
       "    }\n",
       "\n",
       "    .dataframe thead th {\n",
       "        text-align: right;\n",
       "    }\n",
       "</style>\n",
       "<table border=\"1\" class=\"dataframe\">\n",
       "  <thead>\n",
       "    <tr style=\"text-align: right;\">\n",
       "      <th></th>\n",
       "      <th>Month</th>\n",
       "      <th>Store</th>\n",
       "      <th>Sales</th>\n",
       "    </tr>\n",
       "  </thead>\n",
       "  <tbody>\n",
       "    <tr>\n",
       "      <th>6</th>\n",
       "      <td>Feb</td>\n",
       "      <td>B</td>\n",
       "      <td>2900</td>\n",
       "    </tr>\n",
       "    <tr>\n",
       "      <th>7</th>\n",
       "      <td>Feb</td>\n",
       "      <td>C</td>\n",
       "      <td>4600</td>\n",
       "    </tr>\n",
       "    <tr>\n",
       "      <th>5</th>\n",
       "      <td>Feb</td>\n",
       "      <td>A</td>\n",
       "      <td>6500</td>\n",
       "    </tr>\n",
       "    <tr>\n",
       "      <th>9</th>\n",
       "      <td>March</td>\n",
       "      <td>A</td>\n",
       "      <td>14000</td>\n",
       "    </tr>\n",
       "    <tr>\n",
       "      <th>2</th>\n",
       "      <td>Jan</td>\n",
       "      <td>C</td>\n",
       "      <td>24550</td>\n",
       "    </tr>\n",
       "    <tr>\n",
       "      <th>4</th>\n",
       "      <td>Jan</td>\n",
       "      <td>E</td>\n",
       "      <td>29314</td>\n",
       "    </tr>\n",
       "    <tr>\n",
       "      <th>0</th>\n",
       "      <td>Jan</td>\n",
       "      <td>A</td>\n",
       "      <td>30124</td>\n",
       "    </tr>\n",
       "    <tr>\n",
       "      <th>8</th>\n",
       "      <td>Feb</td>\n",
       "      <td>D</td>\n",
       "      <td>31500</td>\n",
       "    </tr>\n",
       "    <tr>\n",
       "      <th>3</th>\n",
       "      <td>Jan</td>\n",
       "      <td>D</td>\n",
       "      <td>34645</td>\n",
       "    </tr>\n",
       "    <tr>\n",
       "      <th>1</th>\n",
       "      <td>Jan</td>\n",
       "      <td>B</td>\n",
       "      <td>65214</td>\n",
       "    </tr>\n",
       "  </tbody>\n",
       "</table>\n",
       "</div>"
      ],
      "text/plain": [
       "   Month Store  Sales\n",
       "6    Feb     B   2900\n",
       "7    Feb     C   4600\n",
       "5    Feb     A   6500\n",
       "9  March     A  14000\n",
       "2    Jan     C  24550\n",
       "4    Jan     E  29314\n",
       "0    Jan     A  30124\n",
       "8    Feb     D  31500\n",
       "3    Jan     D  34645\n",
       "1    Jan     B  65214"
      ]
     },
     "execution_count": 47,
     "metadata": {},
     "output_type": "execute_result"
    }
   ],
   "source": [
    "df1.sort_values(\"Sales\")"
   ]
  },
  {
   "cell_type": "code",
   "execution_count": 48,
   "id": "d3c26c8b",
   "metadata": {},
   "outputs": [
    {
     "data": {
      "text/html": [
       "<div>\n",
       "<style scoped>\n",
       "    .dataframe tbody tr th:only-of-type {\n",
       "        vertical-align: middle;\n",
       "    }\n",
       "\n",
       "    .dataframe tbody tr th {\n",
       "        vertical-align: top;\n",
       "    }\n",
       "\n",
       "    .dataframe thead th {\n",
       "        text-align: right;\n",
       "    }\n",
       "</style>\n",
       "<table border=\"1\" class=\"dataframe\">\n",
       "  <thead>\n",
       "    <tr style=\"text-align: right;\">\n",
       "      <th></th>\n",
       "      <th>Month</th>\n",
       "      <th>Store</th>\n",
       "      <th>Sales</th>\n",
       "    </tr>\n",
       "  </thead>\n",
       "  <tbody>\n",
       "    <tr>\n",
       "      <th>1</th>\n",
       "      <td>Jan</td>\n",
       "      <td>B</td>\n",
       "      <td>65214</td>\n",
       "    </tr>\n",
       "    <tr>\n",
       "      <th>3</th>\n",
       "      <td>Jan</td>\n",
       "      <td>D</td>\n",
       "      <td>34645</td>\n",
       "    </tr>\n",
       "    <tr>\n",
       "      <th>8</th>\n",
       "      <td>Feb</td>\n",
       "      <td>D</td>\n",
       "      <td>31500</td>\n",
       "    </tr>\n",
       "    <tr>\n",
       "      <th>0</th>\n",
       "      <td>Jan</td>\n",
       "      <td>A</td>\n",
       "      <td>30124</td>\n",
       "    </tr>\n",
       "    <tr>\n",
       "      <th>4</th>\n",
       "      <td>Jan</td>\n",
       "      <td>E</td>\n",
       "      <td>29314</td>\n",
       "    </tr>\n",
       "    <tr>\n",
       "      <th>2</th>\n",
       "      <td>Jan</td>\n",
       "      <td>C</td>\n",
       "      <td>24550</td>\n",
       "    </tr>\n",
       "    <tr>\n",
       "      <th>9</th>\n",
       "      <td>March</td>\n",
       "      <td>A</td>\n",
       "      <td>14000</td>\n",
       "    </tr>\n",
       "    <tr>\n",
       "      <th>5</th>\n",
       "      <td>Feb</td>\n",
       "      <td>A</td>\n",
       "      <td>6500</td>\n",
       "    </tr>\n",
       "    <tr>\n",
       "      <th>7</th>\n",
       "      <td>Feb</td>\n",
       "      <td>C</td>\n",
       "      <td>4600</td>\n",
       "    </tr>\n",
       "    <tr>\n",
       "      <th>6</th>\n",
       "      <td>Feb</td>\n",
       "      <td>B</td>\n",
       "      <td>2900</td>\n",
       "    </tr>\n",
       "  </tbody>\n",
       "</table>\n",
       "</div>"
      ],
      "text/plain": [
       "   Month Store  Sales\n",
       "1    Jan     B  65214\n",
       "3    Jan     D  34645\n",
       "8    Feb     D  31500\n",
       "0    Jan     A  30124\n",
       "4    Jan     E  29314\n",
       "2    Jan     C  24550\n",
       "9  March     A  14000\n",
       "5    Feb     A   6500\n",
       "7    Feb     C   4600\n",
       "6    Feb     B   2900"
      ]
     },
     "execution_count": 48,
     "metadata": {},
     "output_type": "execute_result"
    }
   ],
   "source": [
    "df1.sort_values(\"Sales\",ascending=False)"
   ]
  },
  {
   "cell_type": "code",
   "execution_count": null,
   "id": "bfe96c76",
   "metadata": {},
   "outputs": [],
   "source": []
  }
 ],
 "metadata": {
  "kernelspec": {
   "display_name": "Python 3 (ipykernel)",
   "language": "python",
   "name": "python3"
  },
  "language_info": {
   "codemirror_mode": {
    "name": "ipython",
    "version": 3
   },
   "file_extension": ".py",
   "mimetype": "text/x-python",
   "name": "python",
   "nbconvert_exporter": "python",
   "pygments_lexer": "ipython3",
   "version": "3.10.9"
  }
 },
 "nbformat": 4,
 "nbformat_minor": 5
}
